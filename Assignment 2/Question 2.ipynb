{
 "cells": [
  {
   "cell_type": "markdown",
   "metadata": {},
   "source": [
    "# Question 2"
   ]
  },
  {
   "cell_type": "code",
   "execution_count": 184,
   "metadata": {
    "collapsed": false
   },
   "outputs": [],
   "source": [
    "import glob\n",
    "import json\n",
    "import os\n",
    "import shutil"
   ]
  },
  {
   "cell_type": "code",
   "execution_count": 185,
   "metadata": {
    "collapsed": false,
    "scrolled": true
   },
   "outputs": [],
   "source": [
    "term_value = []\n",
    "path = 'Data Processed/'\n",
    "\n",
    "for file in glob.glob('Data/*'):\n",
    "    with open(file) as data_file:    \n",
    "        data = json.load(data_file)\n",
    "        term_value.append(data['term'])\n",
    "        \n",
    "unique_term_value = set(term_value)\n",
    "        \n",
    "for p in unique_term_value:\n",
    "    actual_path = path+p\n",
    "    os.makedirs(actual_path, exist_ok=True)"
   ]
  },
  {
   "cell_type": "code",
   "execution_count": 186,
   "metadata": {
    "collapsed": false
   },
   "outputs": [],
   "source": [
    "for term in unique_term_value:\n",
    "    for file in glob.glob('Data/*'):\n",
    "        with open(file) as data_file:    \n",
    "            data = json.load(data_file)\n",
    "            source_file_path = 'Data/'+file[5:]\n",
    "            destination_file_path = path+term+'/'+file[5:]\n",
    "            if data['term'] == term:\n",
    "                copyfile(source_file_path, destination_file_path)\n",
    "                "
   ]
  },
  {
   "cell_type": "code",
   "execution_count": 187,
   "metadata": {
    "collapsed": false,
    "scrolled": true
   },
   "outputs": [],
   "source": [
    "target_paths = []\n",
    "\n",
    "for p in unique_term_value:\n",
    "    temp = path+p+'/*'\n",
    "    target_paths.append(temp)"
   ]
  },
  {
   "cell_type": "code",
   "execution_count": 188,
   "metadata": {
    "collapsed": false
   },
   "outputs": [],
   "source": [
    "for p in target_paths:\n",
    "    for file in glob.glob(p):\n",
    "        with open(file) as data_file:    \n",
    "            country_data = json.load(data_file)\n",
    "            \n",
    "            country_path = p.replace('*','') + country_data['location']['country']\n",
    "            state_path = country_path + '/' + country_data['location']['state']\n",
    "            city_path = state_path + '/' + country_data['location']['city']\n",
    "            os.makedirs(city_path, exist_ok=True)\n",
    "            \n",
    "            source_file_path = 'Data/' + file[len(p)-1:]\n",
    "            destination_file_path = city_path + '/' + file[len(p)-1:]            \n",
    "            copy(source_file_path, destination_file_path)"
   ]
  },
  {
   "cell_type": "code",
   "execution_count": 189,
   "metadata": {
    "collapsed": false
   },
   "outputs": [],
   "source": [
    "for p in target_paths:\n",
    "    folder = p.replace('*','')\n",
    "    for the_file in os.listdir(folder):\n",
    "        file_path = os.path.join(folder, the_file)\n",
    "        try:\n",
    "            if os.path.isfile(file_path):\n",
    "                os.unlink(file_path)\n",
    "            #elif os.path.isdir(file_path): shutil.rmtree(file_path)\n",
    "        except Exception as e:\n",
    "            print(e)"
   ]
  }
 ],
 "metadata": {
  "anaconda-cloud": {},
  "kernelspec": {
   "display_name": "Python [conda root]",
   "language": "python",
   "name": "conda-root-py"
  },
  "language_info": {
   "codemirror_mode": {
    "name": "ipython",
    "version": 3
   },
   "file_extension": ".py",
   "mimetype": "text/x-python",
   "name": "python",
   "nbconvert_exporter": "python",
   "pygments_lexer": "ipython3",
   "version": "3.5.2"
  }
 },
 "nbformat": 4,
 "nbformat_minor": 1
}
