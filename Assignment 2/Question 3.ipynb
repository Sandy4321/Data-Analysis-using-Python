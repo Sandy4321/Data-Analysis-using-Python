{
 "cells": [
  {
   "cell_type": "markdown",
   "metadata": {},
   "source": [
    "# Question 3\n",
    "- Read all restaurants file\n",
    "- Read the 'open' tag\n",
    "- Create an excel file storing each restaurant's open and close timing for each day\n",
    "- Create an excel file storing each restaurant's open and close timing in hours, minutes form for each day"
   ]
  },
  {
   "cell_type": "code",
   "execution_count": 1,
   "metadata": {
    "collapsed": true
   },
   "outputs": [],
   "source": [
    "# Import all required modules\n",
    "\n",
    "import glob\n",
    "import json\n",
    "import csv"
   ]
  },
  {
   "cell_type": "code",
   "execution_count": 2,
   "metadata": {
    "collapsed": false
   },
   "outputs": [],
   "source": [
    "open_value = [] # Creating an empty list which will store all restaurants 'open' values\n",
    "\n",
    "for file in glob.glob('Data\\\\*'): # Reading all files\n",
    "    with open(file) as data_file: # Opening each file   \n",
    "        data = json.load(data_file) # Storing all data\n",
    "        if data['term'] == 'restaurants': # Checking if the file is a restaurant file\n",
    "            if 'hours' in data.keys(): # Checking if hours is present in the file as some file have no hours data\n",
    "                for x in (data['hours'][0]['open']): # Looping through each day's value\n",
    "                    # Appending each day's value to open_value list\n",
    "                    open_value.append([data['name'], data['location']['city'], data['location']['country'], \n",
    "                                       x.get('day'), x.get('start'), x.get('end')])\n",
    "            else: # If hours is not present then providing default values to day, open and end time\n",
    "                open_value.append([data['name'], data['location']['city'], data['location']['country'], \n",
    "                                       'NA', 'NA', 'NA'])"
   ]
  },
  {
   "cell_type": "code",
   "execution_count": 33,
   "metadata": {
    "collapsed": false
   },
   "outputs": [],
   "source": [
    "with open('Restaurant_Timing.csv','w', newline='', encoding='utf-8') as out: # Opening a file in write mode\n",
    "    csv_out=csv.writer(out) # Calling the writer function on opened file\n",
    "    csv_out.writerow(['Name of Restaurant','City','Country Code','Day of week','Start Time','End Time']) # Creating TITLE\n",
    "    for row in open_value: # Looping through each sublist in open_value\n",
    "        csv_out.writerow(row) # Writing each row to the opened file"
   ]
  },
  {
   "cell_type": "code",
   "execution_count": 43,
   "metadata": {
    "collapsed": false
   },
   "outputs": [],
   "source": [
    "open_values_extended = [] # Creating an empty list which will store all restaurants 'open' values in hours, minutes form\n",
    "\n",
    "for x in open_value: # Looping through each sublist in open_value\n",
    "    if 'NA' in x: \n",
    "        open_values_extended.append([x[0],x[1],x[2],x[3],'NA','NA','NA','NA']) # Extending the default values\n",
    "    else:\n",
    "        open_values_extended.append([x[0],x[1],x[2],x[3],x[4][:2], x[4][2:], x[5][:2], x[5][2:]]) # Extending for hours, minutes"
   ]
  },
  {
   "cell_type": "code",
   "execution_count": 45,
   "metadata": {
    "collapsed": false,
    "scrolled": false
   },
   "outputs": [],
   "source": [
    "with open('Restaurant_Timing_Extended.csv','w', newline='', encoding='utf-8') as out: # Opening a file in write mode\n",
    "    csv_out=csv.writer(out) # Calling the writer function on opened file\n",
    "    # Creating TITLE\n",
    "    csv_out.writerow(['Name of Restaurant','City','Country Code','Day of week',\n",
    "                      'Start Time Hour','Start Time Minute','End Time Hour','End Time Minute'])\n",
    "    for row in open_values_extended: # Looping through each sublist in open_values_extended\n",
    "        csv_out.writerow(row) # Writing each row to the opened file"
   ]
  }
 ],
 "metadata": {
  "anaconda-cloud": {},
  "kernelspec": {
   "display_name": "Python [conda root]",
   "language": "python",
   "name": "conda-root-py"
  },
  "language_info": {
   "codemirror_mode": {
    "name": "ipython",
    "version": 3
   },
   "file_extension": ".py",
   "mimetype": "text/x-python",
   "name": "python",
   "nbconvert_exporter": "python",
   "pygments_lexer": "ipython3",
   "version": "3.5.2"
  }
 },
 "nbformat": 4,
 "nbformat_minor": 1
}
