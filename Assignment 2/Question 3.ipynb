{
 "cells": [
  {
   "cell_type": "markdown",
   "metadata": {},
   "source": [
    "# Question 3"
   ]
  },
  {
   "cell_type": "code",
   "execution_count": 16,
   "metadata": {
    "collapsed": true
   },
   "outputs": [],
   "source": [
    "import glob\n",
    "import json\n",
    "import csv"
   ]
  },
  {
   "cell_type": "code",
   "execution_count": 24,
   "metadata": {
    "collapsed": false
   },
   "outputs": [],
   "source": [
    "open_value = []\n",
    "\n",
    "for file in glob.glob('Data/*'):\n",
    "    with open(file) as data_file:    \n",
    "        data = json.load(data_file)\n",
    "        if data['term'] == 'restaurants':\n",
    "            if 'hours' in data.keys():\n",
    "                for x in (data['hours'][0]['open']):\n",
    "                    open_value.append([data['name'], data['location']['city'], data['location']['country'], \n",
    "                                       x.get('day'), x.get('start'), x.get('end')])\n",
    "            else:\n",
    "                open_value.append([data['name'], data['location']['city'], data['location']['country'], \n",
    "                                       'NA', 'NA', 'NA'])"
   ]
  },
  {
   "cell_type": "code",
   "execution_count": 33,
   "metadata": {
    "collapsed": false
   },
   "outputs": [],
   "source": [
    "with open('Restaurant_Timing.csv','w', newline='', encoding='utf-8') as out:\n",
    "    csv_out=csv.writer(out)\n",
    "    csv_out.writerow(['Name of Restaurant','City','Country Code','Day of week','Start Time','End Time'])\n",
    "    for row in open_value:\n",
    "        csv_out.writerow(row)"
   ]
  },
  {
   "cell_type": "code",
   "execution_count": 43,
   "metadata": {
    "collapsed": false
   },
   "outputs": [],
   "source": [
    "open_values_extended = []\n",
    "\n",
    "for x in open_value:\n",
    "    if 'NA' in x:\n",
    "        open_values_extended.append([x[0],x[1],x[2],x[3],'NA','NA','NA','NA'])\n",
    "    else:\n",
    "        open_values_extended.append([x[0],x[1],x[2],x[3],x[4][:2], x[4][2:], x[5][:2], x[5][2:]])"
   ]
  },
  {
   "cell_type": "code",
   "execution_count": 45,
   "metadata": {
    "collapsed": false,
    "scrolled": false
   },
   "outputs": [],
   "source": [
    "with open('Restaurant_Timing_Extended.csv','w', newline='', encoding='utf-8') as out:\n",
    "    csv_out=csv.writer(out)\n",
    "    csv_out.writerow(['Name of Restaurant','City','Country Code','Day of week',\n",
    "                      'Start Time Hour','Start Time Minute','End Time Hour','End Time Minute'])\n",
    "    for row in open_values_extended:\n",
    "        csv_out.writerow(row)"
   ]
  }
 ],
 "metadata": {
  "anaconda-cloud": {},
  "kernelspec": {
   "display_name": "Python [conda root]",
   "language": "python",
   "name": "conda-root-py"
  },
  "language_info": {
   "codemirror_mode": {
    "name": "ipython",
    "version": 3
   },
   "file_extension": ".py",
   "mimetype": "text/x-python",
   "name": "python",
   "nbconvert_exporter": "python",
   "pygments_lexer": "ipython3",
   "version": "3.5.2"
  }
 },
 "nbformat": 4,
 "nbformat_minor": 1
}
