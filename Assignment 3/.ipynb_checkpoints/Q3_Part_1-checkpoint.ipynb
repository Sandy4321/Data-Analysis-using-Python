{
 "cells": [
  {
   "cell_type": "code",
   "execution_count": 1,
   "metadata": {
    "collapsed": true
   },
   "outputs": [],
   "source": [
    "# Importing all required modules\n",
    "import os\n",
    "from os import listdir\n",
    "from os.path import isfile, join\n",
    "import glob\n",
    "import csv\n",
    "import pandas as pd\n",
    "import calendar\n",
    "import numpy as np"
   ]
  },
  {
   "cell_type": "code",
   "execution_count": 2,
   "metadata": {
    "collapsed": false
   },
   "outputs": [],
   "source": [
    "# Creating the path to read the input file\n",
    "home_path = os.path.expanduser(\"~\")\n",
    "data_path = home_path+\"\\\\Downloads\\\\Documents\\\\Data Analysis Python\\\\DAUP_2017\\\\Assignment_PVS\\\\Assignment 3\\\\Data\""
   ]
  },
  {
   "cell_type": "code",
   "execution_count": 3,
   "metadata": {
    "collapsed": false
   },
   "outputs": [
    {
     "name": "stdout",
     "output_type": "stream",
     "text": [
      "                                       match_details  \\\n",
      "0  North Group:Durham v Nottinghamshire at Cheste...   \n",
      "1  South Group:Hampshire v Sussex at Southampton-...   \n",
      "\n",
      "                                             result  \\\n",
      "0  Durham won by 6 wickets (with 5 balls remaining)   \n",
      "1                           Hampshire won by 5 runs   \n",
      "\n",
      "                                              scores        date  \\\n",
      "0  Nottinghamshire 157/7 (20/20 ov); Durham 160/4...  13/06/2003   \n",
      "1  Hampshire 153 (19.4/20 ov); Sussex 148/7 (20/2...  13/06/2003   \n",
      "\n",
      "               venue        round       home             away     winner  \\\n",
      "0  Chester-le-Street  North Group     Durham  Nottinghamshire     Durham   \n",
      "1        Southampton  South Group  Hampshire           Sussex  Hampshire   \n",
      "\n",
      "   win_by_runs   ...    innings1_wickets  innings1_overs_batted  \\\n",
      "0          NaN   ...                 7.0                   20.0   \n",
      "1          5.0   ...                10.0                   19.4   \n",
      "\n",
      "  innings1_overs  innings2  innings2_runs  innings2_wickets  \\\n",
      "0           20.0    Durham          160.0               4.0   \n",
      "1           20.0    Sussex          148.0               7.0   \n",
      "\n",
      "   innings2_overs_batted innings2_overs  D/L_method  target  \n",
      "0                   19.1           20.0         NaN     NaN  \n",
      "1                   20.0           20.0         NaN     NaN  \n",
      "\n",
      "[2 rows x 24 columns]\n"
     ]
    }
   ],
   "source": [
    "# Looping through each filename in above path and selecting the required file\n",
    "for subdir,dirs, files in os.walk(data_path):\n",
    "    for file in files:\n",
    "        if file == 'cricket_matches.csv':\n",
    "            data=pd.read_csv(os.path.join(subdir,file))\n",
    "print(data.head(2))"
   ]
  },
  {
   "cell_type": "code",
   "execution_count": 4,
   "metadata": {
    "collapsed": false
   },
   "outputs": [
    {
     "name": "stdout",
     "output_type": "stream",
     "text": [
      "             home              away          winner          innings1  \\\n",
      "0          Durham   Nottinghamshire          Durham   Nottinghamshire   \n",
      "1       Hampshire            Sussex       Hampshire         Hampshire   \n",
      "2        Somerset      Warwickshire    Warwickshire      Warwickshire   \n",
      "3          Surrey         Middlesex          Surrey         Middlesex   \n",
      "4  Worcestershire  Northamptonshire  Worcestershire  Northamptonshire   \n",
      "\n",
      "   innings1_runs        innings2  innings2_runs  \n",
      "0          157.0          Durham          160.0  \n",
      "1          153.0          Sussex          148.0  \n",
      "2          188.0        Somerset          169.0  \n",
      "3          155.0          Surrey          158.0  \n",
      "4          150.0  Worcestershire          151.0  \n"
     ]
    }
   ],
   "source": [
    "# Capturing only the required columns\n",
    "cric_match_details_DF = data[[\"home\",\"away\",\"winner\",\"innings1\",\"innings1_runs\",\"innings2\",\"innings2_runs\"]].copy()\n",
    "print(cric_match_details_DF.head(5))"
   ]
  },
  {
   "cell_type": "code",
   "execution_count": 5,
   "metadata": {
    "collapsed": false,
    "scrolled": true
   },
   "outputs": [
    {
     "name": "stdout",
     "output_type": "stream",
     "text": [
      "              home              away           winner          innings1  \\\n",
      "0           Durham   Nottinghamshire           Durham   Nottinghamshire   \n",
      "1        Hampshire            Sussex        Hampshire         Hampshire   \n",
      "3           Surrey         Middlesex           Surrey         Middlesex   \n",
      "4   Worcestershire  Northamptonshire   Worcestershire  Northamptonshire   \n",
      "5  Gloucestershire    Worcestershire  Gloucestershire    Worcestershire   \n",
      "\n",
      "   innings1_runs         innings2  innings2_runs  \n",
      "0          157.0           Durham          160.0  \n",
      "1          153.0           Sussex          148.0  \n",
      "3          155.0           Surrey          158.0  \n",
      "4          150.0   Worcestershire          151.0  \n",
      "5          122.0  Gloucestershire          126.0  \n"
     ]
    }
   ],
   "source": [
    "# Capturing only those records where home match was won\n",
    "home_match_winners_DF = cric_match_details_DF[(cric_match_details_DF['home'] == cric_match_details_DF['winner'])]\n",
    "print(home_match_winners_DF.head(5))"
   ]
  },
  {
   "cell_type": "code",
   "execution_count": 7,
   "metadata": {
    "collapsed": false
   },
   "outputs": [],
   "source": [
    "# Capturing only those records where home team batted first\n",
    "home_match_first_inning = home_match_winners_DF[[\"home\",\"innings1\",\"innings1_runs\"]].copy()\n",
    "home_match_first_inning = home_match_first_inning[(home_match_first_inning['home'] == home_match_first_inning['innings1'])]"
   ]
  },
  {
   "cell_type": "code",
   "execution_count": 8,
   "metadata": {
    "collapsed": false
   },
   "outputs": [
    {
     "name": "stdout",
     "output_type": "stream",
     "text": [
      "                 home  innings1_runs\n",
      "0     Abahani Limited     172.000000\n",
      "1  Abbottabad Falcons     155.333333\n",
      "2   Abbottabad Region     198.000000\n",
      "3   Abbottabad Rhinos     186.000000\n",
      "4   Adelaide Strikers     183.333333\n"
     ]
    }
   ],
   "source": [
    "# Calculating mean of innings run from above result\n",
    "home_match_first_inning = home_match_first_inning.groupby('home', as_index=False)['innings1_runs'].mean()\n",
    "print(home_match_first_inning.head(5))"
   ]
  },
  {
   "cell_type": "code",
   "execution_count": 9,
   "metadata": {
    "collapsed": false
   },
   "outputs": [],
   "source": [
    "# Capturing only those records where home team batted second\n",
    "home_match_second_inning = home_match_winners_DF[[\"home\",\"innings2\",\"innings2_runs\"]].copy()\n",
    "home_match_second_inning = home_match_second_inning[(home_match_second_inning['home'] == home_match_second_inning['innings2'])]"
   ]
  },
  {
   "cell_type": "code",
   "execution_count": 10,
   "metadata": {
    "collapsed": false
   },
   "outputs": [
    {
     "name": "stdout",
     "output_type": "stream",
     "text": [
      "                 home  innings2_runs\n",
      "0  Abbottabad Falcons     120.400000\n",
      "1   Abbottabad Region     175.000000\n",
      "2   Abbottabad Rhinos     144.000000\n",
      "3   Adelaide Strikers     153.000000\n",
      "4         Afghanistan     126.777778\n"
     ]
    }
   ],
   "source": [
    "# Calculating mean of innings run from above result\n",
    "home_match_second_inning = home_match_second_inning.groupby('home', as_index=False)['innings2_runs'].mean()\n",
    "print(home_match_second_inning.head(5))"
   ]
  },
  {
   "cell_type": "code",
   "execution_count": 11,
   "metadata": {
    "collapsed": false
   },
   "outputs": [
    {
     "name": "stdout",
     "output_type": "stream",
     "text": [
      "                 home  First_inning_avg  Second_inning_avg\n",
      "0     Abahani Limited        172.000000                NaN\n",
      "1  Abbottabad Falcons        155.333333              120.4\n",
      "2   Abbottabad Region        198.000000              175.0\n",
      "3   Abbottabad Rhinos        186.000000              144.0\n",
      "4   Adelaide Strikers        183.333333              153.0\n"
     ]
    }
   ],
   "source": [
    "# Merging the above two results based on home\n",
    "complete_inning_DF = pd.merge(home_match_first_inning,home_match_second_inning,on ='home' , how='outer')\n",
    "complete_inning_DF.columns = [\"home\",\"First_inning_avg\",\"Second_inning_avg\"]\n",
    "print(complete_inning_DF.head(5))"
   ]
  },
  {
   "cell_type": "code",
   "execution_count": 12,
   "metadata": {
    "collapsed": false
   },
   "outputs": [],
   "source": [
    "# Calculating the mean of first and second innings\n",
    "complete_inning_DF[\"Score\"] = complete_inning_DF[[\"First_inning_avg\",\"Second_inning_avg\"]].mean(axis=1)"
   ]
  },
  {
   "cell_type": "code",
   "execution_count": 13,
   "metadata": {
    "collapsed": false
   },
   "outputs": [
    {
     "name": "stdout",
     "output_type": "stream",
     "text": [
      "                 home  Score\n",
      "0     Abahani Limited    172\n",
      "1  Abbottabad Falcons    137\n",
      "2   Abbottabad Region    186\n",
      "3   Abbottabad Rhinos    165\n",
      "4   Adelaide Strikers    168\n"
     ]
    }
   ],
   "source": [
    "# Displaying the mean based on home\n",
    "complete_inning_DF.drop('First_inning_avg', axis=1, inplace=True)\n",
    "complete_inning_DF.drop('Second_inning_avg', axis=1, inplace=True)\n",
    "complete_inning_DF[\"Score\"] = complete_inning_DF[\"Score\"].apply(np.int64)\n",
    "print(complete_inning_DF.head(5))"
   ]
  },
  {
   "cell_type": "code",
   "execution_count": 14,
   "metadata": {
    "collapsed": true
   },
   "outputs": [],
   "source": [
    "# Creating a function to create a csv file to save the above captured data\n",
    "def save_to_CSV():\n",
    "    if not os.path.exists(home_path+\"\\\\Downloads\\\\Documents\\\\Data Analysis Python\\\\DAUP_2017\\\\Assignment_PVS\\\\Assignment 3\\\\Output\\\\Q3_Part_1\"):\n",
    "        os.makedirs(home_path+\"\\\\Downloads\\\\Documents\\\\Data Analysis Python\\\\DAUP_2017\\\\Assignment_PVS\\\\Assignment 3\\\\Output\\\\Q3_Part_1\")\n",
    "    \n",
    "    with open(home_path+'\\\\Downloads\\\\Documents\\\\Data Analysis Python\\\\DAUP_2017\\\\Assignment_PVS\\\\Assignment 3\\\\Output\\\\Q3_Part_1\\\\Q3_Part_1.csv', 'w') as myfile:\n",
    "        myfile.write(complete_inning_DF.to_csv(index=False))\n",
    "        \n",
    "# Calling the function\n",
    "save_to_CSV()"
   ]
  }
 ],
 "metadata": {
  "anaconda-cloud": {},
  "kernelspec": {
   "display_name": "Python [conda root]",
   "language": "python",
   "name": "conda-root-py"
  },
  "language_info": {
   "codemirror_mode": {
    "name": "ipython",
    "version": 3
   },
   "file_extension": ".py",
   "mimetype": "text/x-python",
   "name": "python",
   "nbconvert_exporter": "python",
   "pygments_lexer": "ipython3",
   "version": "3.5.2"
  }
 },
 "nbformat": 4,
 "nbformat_minor": 1
}
