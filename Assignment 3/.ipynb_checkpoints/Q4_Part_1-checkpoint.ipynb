{
 "cells": [
  {
   "cell_type": "code",
   "execution_count": 2,
   "metadata": {
    "collapsed": true
   },
   "outputs": [],
   "source": [
    "# Importing all required modules\n",
    "import os\n",
    "from os import listdir\n",
    "from os.path import isfile, join\n",
    "import glob\n",
    "import csv\n",
    "import pandas as pd\n",
    "import calendar\n",
    "import re"
   ]
  },
  {
   "cell_type": "code",
   "execution_count": 3,
   "metadata": {
    "collapsed": false
   },
   "outputs": [],
   "source": [
    "# Creating the path to read the input file\n",
    "home_path = os.path.expanduser(\"~\")\n",
    "data_path = home_path+\"\\\\Downloads\\\\Documents\\\\Data Analysis Python\\\\DAUP_2017\\\\Assignment_PVS\\\\Assignment 3\\\\Data\""
   ]
  },
  {
   "cell_type": "code",
   "execution_count": 4,
   "metadata": {
    "collapsed": false
   },
   "outputs": [
    {
     "name": "stdout",
     "output_type": "stream",
     "text": [
      "  totalSeasons Plot Rated Response Language  \\\n",
      "0         none  NaN   NaN     True  English   \n",
      "1         none  NaN   NaN     True  Swedish   \n",
      "\n",
      "                                               Title Country  \\\n",
      "0  Book of Love: The Definitive Reason Why Men Ar...     USA   \n",
      "1                              Anderssons älskarinna  Sweden   \n",
      "\n",
      "                         Writer  Metascore  imdbRating    ...      \\\n",
      "0  Jeffrey W. Byrd; Eric George        NaN         6.6    ...       \n",
      "1                           NaN        NaN         7.4    ...       \n",
      "\n",
      "      Released                                             Actors  Year  \\\n",
      "0  14 Feb 2002  40 Glocc; Angelle Brooks; David Brown; Qadr Ca...  2002   \n",
      "1  12 Feb 2001  Jakob Eklund; Ebba Forsberg; Örjan Landström; ...  2001   \n",
      "\n",
      "             Genre Awards  Runtime   Type Poster imdbVotes     imdbID  \n",
      "0  Romance; Comedy    NaN   91 min  movie    NaN      79.0  tt0156376  \n",
      "1            Drama    NaN  347 min  movie    NaN      34.0  tt0201374  \n",
      "\n",
      "[2 rows x 21 columns]\n"
     ]
    }
   ],
   "source": [
    "# Looping through each filename in above path and selecting the required file\n",
    "for subdir,dirs, files in os.walk(data_path):\n",
    "    for file in files:\n",
    "        if file == 'movies_awards.csv':\n",
    "            data=pd.read_csv(os.path.join(subdir,file))\n",
    "print(data.head(2))"
   ]
  },
  {
   "cell_type": "code",
   "execution_count": 5,
   "metadata": {
    "collapsed": false
   },
   "outputs": [
    {
     "name": "stdout",
     "output_type": "stream",
     "text": [
      "                                               Title                   Awards\n",
      "0  Book of Love: The Definitive Reason Why Men Ar...                      NaN\n",
      "1                              Anderssons älskarinna                      NaN\n",
      "2                                          Bad Blood                      NaN\n",
      "3                                       Who Are You?   1 win & 2 nominations.\n",
      "4                            Skeletons in the Closet                   1 win.\n",
      "5                                 Cheerleader Ninjas            1 nomination.\n",
      "6                                The Girl from Paris  3 wins & 2 nominations.\n",
      "7                                  The Final Curtain    1 win & 1 nomination.\n",
      "8                                              Crush                      NaN\n",
      "9                                     Happy Birthday                      NaN\n"
     ]
    }
   ],
   "source": [
    "# Capturing only required columns\n",
    "temp_DF = data[[\"Title\",\"Awards\"]].copy()\n",
    "print(temp_DF.head(10))"
   ]
  },
  {
   "cell_type": "code",
   "execution_count": 6,
   "metadata": {
    "collapsed": false
   },
   "outputs": [
    {
     "name": "stdout",
     "output_type": "stream",
     "text": [
      "                      Title                                             Awards\n",
      "3              Who Are You?                             1 win & 2 nominations.\n",
      "4   Skeletons in the Closet                                             1 win.\n",
      "5        Cheerleader Ninjas                                      1 nomination.\n",
      "6       The Girl from Paris                            3 wins & 2 nominations.\n",
      "7         The Final Curtain                              1 win & 1 nomination.\n",
      "11          Crazy/Beautiful                                     5 nominations.\n",
      "13    The Anniversary Party                            2 wins & 5 nominations.\n",
      "15       The Quiet American  Nominated for 1 Oscar. Another 13 wins & 13 no...\n",
      "18       Like Cat and Mouse                            5 wins & 4 nominations.\n",
      "24         Punch-Drunk Love  Nominated for 1 Golden Globe. Another 14 wins ...\n"
     ]
    }
   ],
   "source": [
    "# Removing NAN from above data\n",
    "temp_DF=temp_DF.dropna(subset=['Awards'])\n",
    "print(temp_DF.head(10))"
   ]
  },
  {
   "cell_type": "markdown",
   "metadata": {},
   "source": [
    "# Using REGX  separating the count"
   ]
  },
  {
   "cell_type": "code",
   "execution_count": 7,
   "metadata": {
    "collapsed": false
   },
   "outputs": [],
   "source": [
    "#calculating all sentences with pattern 2 win or 3 win\n",
    "temp_DF[\"Awards_won\"] = temp_DF[\"Awards\"].apply(lambda x : (re.findall(r\"(\\d+) win\", x)))\n",
    "# Finding the 0th element of array\n",
    "temp_DF[\"Awards_won\"] = temp_DF[\"Awards_won\"].apply(lambda x : [0] if len(x)==0 else x) \n",
    "# Converting to integer\n",
    "temp_DF[\"Awards_won\"] = temp_DF[\"Awards_won\"].apply(lambda x : list(map(int,x))[0])\n",
    "\n",
    "# Doing this for all award categories with respective pattern \n",
    "\n",
    "temp_DF[\"Awards_Nominated\"] = temp_DF[\"Awards\"].apply(lambda x : (re.findall(r\"(\\d+) nominations\", x)))\n",
    "temp_DF[\"Awards_Nominated\"] = temp_DF[\"Awards_Nominated\"].apply(lambda x : [0] if len(x)==0 else x)\n",
    "temp_DF[\"Awards_Nominated\"] = temp_DF[\"Awards_Nominated\"].apply(lambda x : list(map(int,x))[0])\n",
    "\n",
    "temp_DF[\"Golden_glob_awards_won\"] = temp_DF[\"Awards\"].apply(lambda x : (re.findall(r\"Won (\\d+) Golden \", x)))\n",
    "temp_DF[\"Golden_glob_awards_won\"] = temp_DF[\"Golden_glob_awards_won\"].apply(lambda x : [0] if len(x)==0 else x)\n",
    "temp_DF[\"Golden_glob_awards_won\"] = temp_DF[\"Golden_glob_awards_won\"].apply(lambda x : list(map(int,x))[0])\n",
    "\n",
    "temp_DF[\"Golden_glob_awards_Nominated\"] = temp_DF[\"Awards\"].apply(lambda x : (re.findall(r\"Nominated for (\\d+) Golden \", x)))\n",
    "temp_DF[\"Golden_glob_awards_Nominated\"] = temp_DF[\"Golden_glob_awards_Nominated\"].apply(lambda x : [0] if len(x)==0 else x)\n",
    "temp_DF[\"Golden_glob_awards_Nominated\"] = temp_DF[\"Golden_glob_awards_Nominated\"].apply(lambda x : list(map(int,x))[0])\n"
   ]
  },
  {
   "cell_type": "code",
   "execution_count": 8,
   "metadata": {
    "collapsed": false
   },
   "outputs": [],
   "source": [
    "temp_DF[\"Oscar_awards_Nominated\"] = temp_DF[\"Awards\"].apply(lambda x : (re.findall(r\"Nominated for (\\d+) Oscar\", x)))\n",
    "temp_DF[\"Oscar_awards_Nominated\"] = temp_DF[\"Oscar_awards_Nominated\"].apply(lambda x : [0] if len(x)==0 else x)\n",
    "temp_DF[\"Oscar_awards_Nominated\"] = temp_DF[\"Oscar_awards_Nominated\"].apply(lambda x : list(map(int,x))[0])"
   ]
  },
  {
   "cell_type": "code",
   "execution_count": 9,
   "metadata": {
    "collapsed": true
   },
   "outputs": [],
   "source": [
    "temp_DF[\"Oscar_Won\"] = temp_DF[\"Awards\"].apply(lambda x : (re.findall(r\"Won (\\d+) Oscar\", x)))\n",
    "temp_DF[\"Oscar_Won\"] = temp_DF[\"Oscar_Won\"].apply(lambda x : [0] if len(x)==0 else x)\n",
    "temp_DF[\"Oscar_Won\"] = temp_DF[\"Oscar_Won\"].apply(lambda x : list(map(int,x))[0])"
   ]
  },
  {
   "cell_type": "code",
   "execution_count": 10,
   "metadata": {
    "collapsed": true
   },
   "outputs": [],
   "source": [
    "temp_DF[\"Prime_awards_nominated\"] = temp_DF[\"Awards\"].apply(lambda x : (re.findall(r\"Nominated for (\\d+) Primetime\", x)))\n",
    "temp_DF[\"Prime_awards_nominated\"] = temp_DF[\"Prime_awards_nominated\"].apply(lambda x : [0] if len(x)==0 else x)\n",
    "temp_DF[\"Prime_awards_nominated\"] = temp_DF[\"Prime_awards_nominated\"].apply(lambda x : list(map(int,x))[0])"
   ]
  },
  {
   "cell_type": "code",
   "execution_count": 11,
   "metadata": {
    "collapsed": true
   },
   "outputs": [],
   "source": [
    "temp_DF[\"Prime_awards_won\"] = temp_DF[\"Awards\"].apply(lambda x : (re.findall(r\"Won (\\d+) Primetime\", x)))\n",
    "temp_DF[\"Prime_awards_won\"] = temp_DF[\"Prime_awards_won\"].apply(lambda x : [0] if len(x)==0 else x)\n",
    "temp_DF[\"Prime_awards_won\"] = temp_DF[\"Prime_awards_won\"].apply(lambda x : list(map(int,x))[0])"
   ]
  },
  {
   "cell_type": "code",
   "execution_count": 12,
   "metadata": {
    "collapsed": true
   },
   "outputs": [],
   "source": [
    "temp_DF[\"BAFTA_awards_nominated\"] = temp_DF[\"Awards\"].apply(lambda x : (re.findall(r\"Nominated for (\\d+) BAFTA\", x)))\n",
    "temp_DF[\"BAFTA_awards_nominated\"] = temp_DF[\"BAFTA_awards_nominated\"].apply(lambda x : [0] if len(x)==0 else x)\n",
    "temp_DF[\"BAFTA_awards_nominated\"] = temp_DF[\"BAFTA_awards_nominated\"].apply(lambda x : list(map(int,x))[0])"
   ]
  },
  {
   "cell_type": "code",
   "execution_count": 13,
   "metadata": {
    "collapsed": false
   },
   "outputs": [],
   "source": [
    "temp_DF[\"BAFTA_awards_won\"] = temp_DF[\"Awards\"].apply(lambda x : (re.findall(r\"Won (\\d+) BAFTA\", x)))\n",
    "temp_DF[\"BAFTA_awards_won\"] = temp_DF[\"BAFTA_awards_won\"].apply(lambda x : [0] if len(x)==0 else x)\n",
    "temp_DF[\"BAFTA_awards_won\"] = temp_DF[\"BAFTA_awards_won\"].apply(lambda x : list(map(int,x))[0])"
   ]
  },
  {
   "cell_type": "code",
   "execution_count": 14,
   "metadata": {
    "collapsed": false
   },
   "outputs": [
    {
     "name": "stdout",
     "output_type": "stream",
     "text": [
      "                     Title                   Awards  Awards_won  \\\n",
      "3             Who Are You?   1 win & 2 nominations.           1   \n",
      "4  Skeletons in the Closet                   1 win.           1   \n",
      "5       Cheerleader Ninjas            1 nomination.           0   \n",
      "6      The Girl from Paris  3 wins & 2 nominations.           3   \n",
      "7        The Final Curtain    1 win & 1 nomination.           1   \n",
      "\n",
      "   Awards_Nominated  Golden_glob_awards_won  Golden_glob_awards_Nominated  \\\n",
      "3                 2                       0                             0   \n",
      "4                 0                       0                             0   \n",
      "5                 0                       0                             0   \n",
      "6                 2                       0                             0   \n",
      "7                 0                       0                             0   \n",
      "\n",
      "   Oscar_awards_Nominated  Oscar_Won  Prime_awards_nominated  \\\n",
      "3                       0          0                       0   \n",
      "4                       0          0                       0   \n",
      "5                       0          0                       0   \n",
      "6                       0          0                       0   \n",
      "7                       0          0                       0   \n",
      "\n",
      "   Prime_awards_won  BAFTA_awards_nominated  BAFTA_awards_won  \n",
      "3                 0                       0                 0  \n",
      "4                 0                       0                 0  \n",
      "5                 0                       0                 0  \n",
      "6                 0                       0                 0  \n",
      "7                 0                       0                 0  \n"
     ]
    }
   ],
   "source": [
    "# Adding all awards counts to get the awards won and awards nominated\n",
    "temp_DF[\"Awards_won\"] = ((((temp_DF[\"Awards_won\"] + temp_DF[\"Golden_glob_awards_won\"]) + temp_DF[\"Oscar_Won\"]) + temp_DF[\"Prime_awards_won\"]) + temp_DF[\"BAFTA_awards_won\"])\n",
    "temp_DF[\"Awards_Nominated\"] = ((((temp_DF[\"Awards_Nominated\"] + temp_DF[\"Golden_glob_awards_Nominated\"]) + temp_DF[\"Oscar_awards_Nominated\"]) + temp_DF[\"Prime_awards_nominated\"]) + temp_DF[\"BAFTA_awards_nominated\"])\n",
    "print(temp_DF.head(5))"
   ]
  },
  {
   "cell_type": "code",
   "execution_count": 15,
   "metadata": {
    "collapsed": true
   },
   "outputs": [],
   "source": [
    "# Creating a function to create a csv file to save the above captured data\n",
    "def save_to_CSV():\n",
    "    if not os.path.exists(home_path+\"\\\\Downloads\\\\Documents\\\\Data Analysis Python\\\\DAUP_2017\\\\Assignment_PVS\\\\Assignment 3\\\\Output\\\\Q4_Part_1\"):\n",
    "        os.makedirs(home_path+\"\\\\Downloads\\\\Documents\\\\Data Analysis Python\\\\DAUP_2017\\\\Assignment_PVS\\\\Assignment 3\\\\Output\\\\Q4_Part_1\")\n",
    "    \n",
    "    with open(home_path+'\\\\Downloads\\\\Documents\\\\Data Analysis Python\\\\DAUP_2017\\\\Assignment_PVS\\\\Assignment 3\\\\Output\\\\Q4_Part_1\\\\Q4_Part_1.csv', 'w') as myfile:\n",
    "        myfile.write(temp_DF.to_csv(index=False))\n",
    "        \n",
    "# Calling the function\n",
    "save_to_CSV()"
   ]
  }
 ],
 "metadata": {
  "anaconda-cloud": {},
  "kernelspec": {
   "display_name": "Python [conda root]",
   "language": "python",
   "name": "conda-root-py"
  },
  "language_info": {
   "codemirror_mode": {
    "name": "ipython",
    "version": 3
   },
   "file_extension": ".py",
   "mimetype": "text/x-python",
   "name": "python",
   "nbconvert_exporter": "python",
   "pygments_lexer": "ipython3",
   "version": "3.5.2"
  }
 },
 "nbformat": 4,
 "nbformat_minor": 1
}
