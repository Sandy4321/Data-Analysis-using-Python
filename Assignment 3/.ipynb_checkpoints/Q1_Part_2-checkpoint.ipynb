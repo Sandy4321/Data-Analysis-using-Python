{
 "cells": [
  {
   "cell_type": "code",
   "execution_count": 1,
   "metadata": {
    "collapsed": true
   },
   "outputs": [],
   "source": [
    "# Importing all required modules\n",
    "import os\n",
    "from os import listdir\n",
    "from os.path import isfile, join\n",
    "import glob\n",
    "import csv\n",
    "import pandas as pd\n",
    "import calendar"
   ]
  },
  {
   "cell_type": "code",
   "execution_count": 2,
   "metadata": {
    "collapsed": false
   },
   "outputs": [],
   "source": [
    "# Creating the path to read the input file\n",
    "home_path = os.path.expanduser(\"~\")\n",
    "data_path = home_path+\"\\\\Downloads\\\\Documents\\\\Data Analysis Python\\\\DAUP_2017\\\\Assignment_PVS\\\\Assignment 3\\\\Data\""
   ]
  },
  {
   "cell_type": "code",
   "execution_count": 3,
   "metadata": {
    "collapsed": false
   },
   "outputs": [
    {
     "name": "stdout",
     "output_type": "stream",
     "text": [
      "   UNIQUE KEY    DATE  TIME BOROUGH  ZIP CODE   LATITUDE  LONGITUDE  \\\n",
      "0     3146911  1/1/15  0:20  QUEENS   11358.0  40.751847 -73.787862   \n",
      "1     3146180  1/1/15  0:20     NaN       NaN  40.771289 -73.946693   \n",
      "\n",
      "                    LOCATION ON STREET NAME CROSS STREET NAME  \\\n",
      "0   (40.7518471, -73.787862)      47 AVENUE        193 STREET   \n",
      "1  (40.7712888, -73.9466928)            NaN               NaN   \n",
      "\n",
      "        ...                      VEHICLE 1 TYPE  VEHICLE 2 TYPE  \\\n",
      "0       ...         SPORT UTILITY/STATION WAGON             NaN   \n",
      "1       ...                   PASSENGER VEHICLE             NaN   \n",
      "\n",
      "   VEHICLE 3 TYPE  VEHICLE 4 TYPE  VEHICLE 5 TYPE  \\\n",
      "0             NaN             NaN             NaN   \n",
      "1             NaN             NaN             NaN   \n",
      "\n",
      "              VEHICLE 1 FACTOR  VEHICLE 2 FACTOR  VEHICLE 3 FACTOR  \\\n",
      "0  TRAFFIC CONTROL DISREGARDED               NaN               NaN   \n",
      "1               ANIMALS ACTION               NaN               NaN   \n",
      "\n",
      "   VEHICLE 4 FACTOR VEHICLE 5 FACTOR  \n",
      "0               NaN              NaN  \n",
      "1               NaN              NaN  \n",
      "\n",
      "[2 rows x 29 columns]\n"
     ]
    }
   ],
   "source": [
    "# Looping through each filename in above path and selecting the required file\n",
    "for subdir,dirs, files in os.walk(data_path):\n",
    "    for file in files:\n",
    "        if file == 'vehicle_collisions.csv':\n",
    "            data=pd.read_csv(os.path.join(subdir,file))\n",
    "print(data.head(2))"
   ]
  },
  {
   "cell_type": "code",
   "execution_count": 4,
   "metadata": {
    "collapsed": false
   },
   "outputs": [
    {
     "name": "stdout",
     "output_type": "stream",
     "text": [
      "  BOROUGH    DATE               VEHICLE 1 TYPE VEHICLE 2 TYPE VEHICLE 3 TYPE  \\\n",
      "0  QUEENS  1/1/15  SPORT UTILITY/STATION WAGON            NaN            NaN   \n",
      "1     NaN  1/1/15            PASSENGER VEHICLE            NaN            NaN   \n",
      "\n",
      "  VEHICLE 4 TYPE VEHICLE 5 TYPE  \n",
      "0            NaN            NaN  \n",
      "1            NaN            NaN  \n"
     ]
    }
   ],
   "source": [
    "# Capturing only the required columns\n",
    "new_DF = data[[\"BOROUGH\",\"DATE\",\"VEHICLE 1 TYPE\",\"VEHICLE 2 TYPE\",\"VEHICLE 3 TYPE\",\"VEHICLE 4 TYPE\",\"VEHICLE 5 TYPE\"]].copy()\n",
    "print(new_DF.head(2))"
   ]
  },
  {
   "cell_type": "code",
   "execution_count": 5,
   "metadata": {
    "collapsed": false
   },
   "outputs": [
    {
     "name": "stdout",
     "output_type": "stream",
     "text": [
      "    BOROUGH       DATE               VEHICLE 1 TYPE     VEHICLE 2 TYPE  \\\n",
      "0    QUEENS 2015-01-01  SPORT UTILITY/STATION WAGON                NaN   \n",
      "1       NaN 2015-01-01            PASSENGER VEHICLE                NaN   \n",
      "2  BROOKLYN 2015-01-01            PASSENGER VEHICLE            UNKNOWN   \n",
      "3  BROOKLYN 2015-01-01                          BUS  PASSENGER VEHICLE   \n",
      "4       NaN 2015-01-01                      UNKNOWN  PASSENGER VEHICLE   \n",
      "\n",
      "  VEHICLE 3 TYPE VEHICLE 4 TYPE VEHICLE 5 TYPE  YEAR  \n",
      "0            NaN            NaN            NaN  2015  \n",
      "1            NaN            NaN            NaN  2015  \n",
      "2            NaN            NaN            NaN  2015  \n",
      "3            NaN            NaN            NaN  2015  \n",
      "4            NaN            NaN            NaN  2015  \n"
     ]
    }
   ],
   "source": [
    "# Formatting the date, Adding year to ease calculation\n",
    "new_DF[\"DATE\"]= pd.to_datetime(new_DF.DATE)\n",
    "new_DF[\"YEAR\"] = new_DF.DATE.dt.year\n",
    "print(new_DF.head(5))"
   ]
  },
  {
   "cell_type": "code",
   "execution_count": 6,
   "metadata": {
    "collapsed": false
   },
   "outputs": [
    {
     "name": "stdout",
     "output_type": "stream",
     "text": [
      "    BOROUGH       DATE VEHICLE 1 TYPE VEHICLE 2 TYPE VEHICLE 3 TYPE  \\\n",
      "0    QUEENS 2015-01-01              1              0              0   \n",
      "1       NaN 2015-01-01              1              0              0   \n",
      "2  BROOKLYN 2015-01-01              1              1              0   \n",
      "3  BROOKLYN 2015-01-01              1              1              0   \n",
      "4       NaN 2015-01-01              1              1              0   \n",
      "\n",
      "  VEHICLE 4 TYPE VEHICLE 5 TYPE  YEAR  \n",
      "0              0              0  2015  \n",
      "1              0              0  2015  \n",
      "2              0              0  2015  \n",
      "3              0              0  2015  \n",
      "4              0              0  2015  \n"
     ]
    }
   ],
   "source": [
    "# Putting 1 wherever vehicles involved in accidents and replacing NAN with 0\n",
    "\n",
    "new_DF['VEHICLE 1 TYPE'] = new_DF['VEHICLE 1 TYPE'].str.replace('.*','1')\n",
    "new_DF['VEHICLE 1 TYPE'] = new_DF['VEHICLE 1 TYPE'].fillna(0)\n",
    "\n",
    "new_DF['VEHICLE 2 TYPE'] = new_DF['VEHICLE 2 TYPE'].str.replace('.*','1')\n",
    "new_DF['VEHICLE 2 TYPE'] = new_DF['VEHICLE 2 TYPE'].fillna(0)\n",
    "\n",
    "new_DF['VEHICLE 3 TYPE'] = new_DF['VEHICLE 3 TYPE'].str.replace('.*','1')\n",
    "new_DF['VEHICLE 3 TYPE'] = new_DF['VEHICLE 3 TYPE'].fillna(0)\n",
    "\n",
    "new_DF['VEHICLE 4 TYPE'] = new_DF['VEHICLE 4 TYPE'].str.replace('.*','1')\n",
    "new_DF['VEHICLE 4 TYPE'] = new_DF['VEHICLE 4 TYPE'].fillna(0)\n",
    "\n",
    "new_DF['VEHICLE 5 TYPE'] = new_DF['VEHICLE 5 TYPE'].str.replace('.*','1')\n",
    "new_DF['VEHICLE 5 TYPE'] = new_DF['VEHICLE 5 TYPE'].fillna(0)\n",
    "\n",
    "print(new_DF.head(5))"
   ]
  },
  {
   "cell_type": "code",
   "execution_count": 7,
   "metadata": {
    "collapsed": false
   },
   "outputs": [
    {
     "name": "stdout",
     "output_type": "stream",
     "text": [
      "    BOROUGH       DATE VEHICLE 1 TYPE VEHICLE 2 TYPE VEHICLE 3 TYPE  \\\n",
      "0    QUEENS 2015-01-01              1              0              0   \n",
      "2  BROOKLYN 2015-01-01              1              1              0   \n",
      "3  BROOKLYN 2015-01-01              1              1              0   \n",
      "5  BROOKLYN 2015-01-01              1              1              1   \n",
      "6    QUEENS 2015-01-01              1              1              1   \n",
      "\n",
      "  VEHICLE 4 TYPE VEHICLE 5 TYPE  YEAR  \n",
      "0              0              0  2015  \n",
      "2              0              0  2015  \n",
      "3              0              0  2015  \n",
      "5              1              0  2015  \n",
      "6              0              0  2015  \n"
     ]
    }
   ],
   "source": [
    "# Considering accidents occurred only in 2015\n",
    "new_DF = new_DF[(new_DF.YEAR >= 2015)].dropna(subset=[\"BOROUGH\"])\n",
    "print(new_DF.head(5))"
   ]
  },
  {
   "cell_type": "code",
   "execution_count": 8,
   "metadata": {
    "collapsed": false
   },
   "outputs": [
    {
     "name": "stdout",
     "output_type": "stream",
     "text": [
      "         BOROUGH  One_Vehicle_Involved\n",
      "0          BRONX                 45599\n",
      "1       BROOKLYN                104174\n",
      "2      MANHATTAN                 82801\n",
      "3         QUEENS                 89140\n",
      "4  STATEN ISLAND                 13943\n"
     ]
    }
   ],
   "source": [
    "# Calculating the total accidents in each borough wherever a single vehicle is involved\n",
    "vehicle1_DF = new_DF[[\"BOROUGH\"]].copy()\n",
    "vehicle1_DF[\"One_Vehicle_Involved\"] = new_DF[\"VEHICLE 1 TYPE\"].astype(str).astype(int)\n",
    "vehicle1_DF = pd.DataFrame(vehicle1_DF.groupby(\"BOROUGH\").One_Vehicle_Involved.sum().reset_index())\n",
    "print(vehicle1_DF.head(5))"
   ]
  },
  {
   "cell_type": "code",
   "execution_count": 9,
   "metadata": {
    "collapsed": false
   },
   "outputs": [
    {
     "name": "stdout",
     "output_type": "stream",
     "text": [
      "         BOROUGH  Two_Vehicle_Involved\n",
      "0          BRONX                 36972\n",
      "1       BROOKLYN                 86799\n",
      "2      MANHATTAN                 69483\n",
      "3         QUEENS                 76178\n",
      "4  STATEN ISLAND                 11600\n"
     ]
    }
   ],
   "source": [
    "# Calculating the total accidents in each borough wherever two vehicles are involved\n",
    "vehicle2_DF = new_DF[[\"BOROUGH\"]].copy()\n",
    "vehicle2_DF[\"Two_Vehicle_Involved\"] = new_DF[\"VEHICLE 2 TYPE\"].astype(str).astype(int)\n",
    "vehicle2_DF = pd.DataFrame(vehicle2_DF.groupby(\"BOROUGH\").Two_Vehicle_Involved.sum().reset_index())\n",
    "print(vehicle2_DF.head(5))"
   ]
  },
  {
   "cell_type": "code",
   "execution_count": 10,
   "metadata": {
    "collapsed": false
   },
   "outputs": [
    {
     "name": "stdout",
     "output_type": "stream",
     "text": [
      "         BOROUGH  Three_Vehicle_Involved\n",
      "0          BRONX                    2587\n",
      "1       BROOKLYN                    6592\n",
      "2      MANHATTAN                    2525\n",
      "3         QUEENS                    5918\n",
      "4  STATEN ISLAND                     924\n"
     ]
    }
   ],
   "source": [
    "# Calculating the total accidents in each borough wherever three vehicles are involved\n",
    "vehicle3_DF = new_DF[[\"BOROUGH\"]].copy()\n",
    "vehicle3_DF[\"Three_Vehicle_Involved\"] = new_DF[\"VEHICLE 3 TYPE\"].astype(str).astype(int)\n",
    "vehicle3_DF = pd.DataFrame(vehicle3_DF.groupby(\"BOROUGH\").Three_Vehicle_Involved.sum().reset_index())\n",
    "print(vehicle3_DF.head(5))"
   ]
  },
  {
   "cell_type": "code",
   "execution_count": 11,
   "metadata": {
    "collapsed": false
   },
   "outputs": [
    {
     "name": "stdout",
     "output_type": "stream",
     "text": [
      "         BOROUGH  Four_Vehicle_Involved\n",
      "0          BRONX                    625\n",
      "1       BROOKLYN                   1612\n",
      "2      MANHATTAN                    501\n",
      "3         QUEENS                   1420\n",
      "4  STATEN ISLAND                    165\n"
     ]
    }
   ],
   "source": [
    "# Calculating the total accidents in each borough wherever four vehicles are involved\n",
    "vehicle4_DF = new_DF[[\"BOROUGH\"]].copy()\n",
    "vehicle4_DF[\"Four_Vehicle_Involved\"] = new_DF[\"VEHICLE 4 TYPE\"].astype(str).astype(int)\n",
    "vehicle4_DF = pd.DataFrame(vehicle4_DF.groupby(\"BOROUGH\").Four_Vehicle_Involved.sum().reset_index())\n",
    "print(vehicle4_DF.head(5))"
   ]
  },
  {
   "cell_type": "code",
   "execution_count": 12,
   "metadata": {
    "collapsed": false
   },
   "outputs": [
    {
     "name": "stdout",
     "output_type": "stream",
     "text": [
      "         BOROUGH  Five_Vehicle_Involved\n",
      "0          BRONX                    173\n",
      "1       BROOKLYN                    461\n",
      "2      MANHATTAN                    129\n",
      "3         QUEENS                    314\n",
      "4  STATEN ISLAND                     32\n"
     ]
    }
   ],
   "source": [
    "# Calculating the total accidents in each borough wherever five vehicles are involved\n",
    "vehicle5_DF = new_DF[[\"BOROUGH\"]].copy()\n",
    "vehicle5_DF[\"Five_Vehicle_Involved\"] = new_DF[\"VEHICLE 5 TYPE\"].astype(str).astype(int)\n",
    "vehicle5_DF = pd.DataFrame(vehicle5_DF.groupby(\"BOROUGH\").Five_Vehicle_Involved.sum().reset_index())\n",
    "print(vehicle5_DF.head(5))"
   ]
  },
  {
   "cell_type": "code",
   "execution_count": 13,
   "metadata": {
    "collapsed": false
   },
   "outputs": [
    {
     "name": "stdout",
     "output_type": "stream",
     "text": [
      "    BOROUGH  One_Vehicle_Involved  Two_Vehicle_Involved  \\\n",
      "0     BRONX                 45599                 36972   \n",
      "1  BROOKLYN                104174                 86799   \n",
      "\n",
      "   Three_Vehicle_Involved  Four_Vehicle_Involved  Five_Vehicle_Involved  \n",
      "0                    2587                    625                    173  \n",
      "1                    6592                   1612                    461  \n"
     ]
    }
   ],
   "source": [
    "# Merging the total accidents categorywise in each borough into a single dataframe\n",
    "\n",
    "final_DF = pd.merge(vehicle1_DF,vehicle2_DF,on ='BOROUGH' , how='inner')\n",
    "final_DF.columns = [\"BOROUGH\",\"One_Vehicle_Involved\",\"Two_Vehicle_Involved\"]\n",
    "\n",
    "final_DF = pd.merge(final_DF,vehicle3_DF,on ='BOROUGH' , how='inner')\n",
    "final_DF.columns = [\"BOROUGH\",\"One_Vehicle_Involved\",\"Two_Vehicle_Involved\",\"Three_Vehicle_Involved\"]\n",
    "\n",
    "final_DF = pd.merge(final_DF,vehicle4_DF,on ='BOROUGH' , how='inner')\n",
    "final_DF.columns = [\"BOROUGH\",\"One_Vehicle_Involved\",\"Two_Vehicle_Involved\",\"Three_Vehicle_Involved\",\"Four_Vehicle_Involved\"]\n",
    "\n",
    "final_DF = pd.merge(final_DF,vehicle5_DF,on ='BOROUGH' , how='inner')\n",
    "final_DF.columns = [\"BOROUGH\",\"One_Vehicle_Involved\",\"Two_Vehicle_Involved\",\"Three_Vehicle_Involved\",\"Four_Vehicle_Involved\",\"Five_Vehicle_Involved\"]\n",
    "\n",
    "\n",
    "print(final_DF.head(2))"
   ]
  },
  {
   "cell_type": "code",
   "execution_count": 14,
   "metadata": {
    "collapsed": false
   },
   "outputs": [],
   "source": [
    "# Calculating the number of accidents involving four vehicles\n",
    "final_DF[\"Four_Vehicle_Involved\"] = final_DF[\"Four_Vehicle_Involved\"] - final_DF[\"Five_Vehicle_Involved\"]"
   ]
  },
  {
   "cell_type": "code",
   "execution_count": 15,
   "metadata": {
    "collapsed": true
   },
   "outputs": [],
   "source": [
    "# Calculating the number of accidents involving three vehicles\n",
    "final_DF[\"Three_Vehicle_Involved\"] = (final_DF[\"Three_Vehicle_Involved\"] - final_DF[\"Four_Vehicle_Involved\"])-final_DF[\"Five_Vehicle_Involved\"]"
   ]
  },
  {
   "cell_type": "code",
   "execution_count": 16,
   "metadata": {
    "collapsed": true
   },
   "outputs": [],
   "source": [
    "# Calculating the number of accidents involving two vehicles\n",
    "final_DF[\"Two_Vehicle_Involved\"] = ((final_DF[\"Two_Vehicle_Involved\"]-final_DF[\"Three_Vehicle_Involved\"])-final_DF[\"Four_Vehicle_Involved\"])-final_DF[\"Five_Vehicle_Involved\"]                     "
   ]
  },
  {
   "cell_type": "code",
   "execution_count": 17,
   "metadata": {
    "collapsed": true
   },
   "outputs": [],
   "source": [
    "# Calculating the number of accidents involving one vehicle\n",
    "final_DF[\"One_Vehicle_Involved\"]=(((final_DF[\"One_Vehicle_Involved\"]-final_DF[\"Two_Vehicle_Involved\"])-final_DF[\"Three_Vehicle_Involved\"])-final_DF[\"Four_Vehicle_Involved\"])- final_DF[\"Five_Vehicle_Involved\"]"
   ]
  },
  {
   "cell_type": "code",
   "execution_count": 18,
   "metadata": {
    "collapsed": false
   },
   "outputs": [
    {
     "name": "stdout",
     "output_type": "stream",
     "text": [
      "         BOROUGH  One_Vehicle_Involved  Two_Vehicle_Involved  \\\n",
      "0          BRONX                  8627                 34385   \n",
      "1       BROOKLYN                 17375                 80207   \n",
      "2      MANHATTAN                 13318                 66958   \n",
      "3         QUEENS                 12962                 70260   \n",
      "4  STATEN ISLAND                  2343                 10676   \n",
      "\n",
      "   Three_Vehicle_Involved  Extra_Vehicles_involved  \n",
      "0                    1962                      625  \n",
      "1                    4980                     1612  \n",
      "2                    2024                      501  \n",
      "3                    4498                     1420  \n",
      "4                     759                      165  \n"
     ]
    }
   ],
   "source": [
    "# Creating a dataframe combining the four and five vehicles accidents cases alongwith one, two and three vehicles accidents\n",
    "final_output_DF = final_DF\n",
    "final_output_DF[\"Extra_Vehicles_involved\"] = final_output_DF[\"Four_Vehicle_Involved\"] + final_output_DF[\"Five_Vehicle_Involved\"]\n",
    "final_output_DF.drop('Four_Vehicle_Involved', axis=1, inplace=True)\n",
    "final_output_DF.drop('Five_Vehicle_Involved', axis=1, inplace=True)\n",
    "\n",
    "print(final_output_DF.head(5))"
   ]
  },
  {
   "cell_type": "code",
   "execution_count": 19,
   "metadata": {
    "collapsed": false
   },
   "outputs": [],
   "source": [
    "# Creating a function to create a csv file to save the above captured data\n",
    "def save_to_CSV():\n",
    "    if not os.path.exists(home_path+\"\\\\Downloads\\\\Documents\\\\Data Analysis Python\\\\DAUP_2017\\\\Assignment_PVS\\\\Assignment 3\\\\Output\\\\Q1_Part_2\"):\n",
    "        os.makedirs(home_path+\"\\\\Downloads\\\\Documents\\\\Data Analysis Python\\\\DAUP_2017\\\\Assignment_PVS\\\\Assignment 3\\\\Output\\\\Q1_Part_2\")\n",
    "    \n",
    "    with open(home_path+'\\\\Downloads\\\\Documents\\\\Data Analysis Python\\\\DAUP_2017\\\\Assignment_PVS\\\\Assignment 3\\\\Output\\\\Q1_Part_2\\\\Q1_Part_2.csv', 'w') as myfile:\n",
    "        myfile.write(final_output_DF.to_csv(index=False))\n",
    "\n",
    "# Calling the function\n",
    "save_to_CSV()"
   ]
  }
 ],
 "metadata": {
  "anaconda-cloud": {},
  "kernelspec": {
   "display_name": "Python [conda root]",
   "language": "python",
   "name": "conda-root-py"
  },
  "language_info": {
   "codemirror_mode": {
    "name": "ipython",
    "version": 3
   },
   "file_extension": ".py",
   "mimetype": "text/x-python",
   "name": "python",
   "nbconvert_exporter": "python",
   "pygments_lexer": "ipython3",
   "version": "3.5.2"
  }
 },
 "nbformat": 4,
 "nbformat_minor": 1
}
