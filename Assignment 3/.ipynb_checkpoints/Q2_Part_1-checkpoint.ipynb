{
 "cells": [
  {
   "cell_type": "code",
   "execution_count": 1,
   "metadata": {
    "collapsed": true
   },
   "outputs": [],
   "source": [
    "# Importing all required modules\n",
    "import os\n",
    "from os import listdir\n",
    "from os.path import isfile, join\n",
    "import glob\n",
    "import csv\n",
    "import pandas as pd\n",
    "import calendar\n",
    "import numpy as np"
   ]
  },
  {
   "cell_type": "code",
   "execution_count": 2,
   "metadata": {
    "collapsed": false
   },
   "outputs": [],
   "source": [
    "# Creating the path to read the input file\n",
    "home_path = os.path.expanduser(\"~\")\n",
    "data_path = home_path+\"\\\\Downloads\\\\Documents\\\\Data Analysis Python\\\\DAUP_2017\\\\Assignment_PVS\\\\Assignment 3\\\\Data\""
   ]
  },
  {
   "cell_type": "code",
   "execution_count": 3,
   "metadata": {
    "collapsed": false
   },
   "outputs": [
    {
     "name": "stdout",
     "output_type": "stream",
     "text": [
      "  Year Type  Year  Organization Group Code  \\\n",
      "0  Calendar  2013                        2   \n",
      "1    Fiscal  2015                        4   \n",
      "\n",
      "                        Organization Group Department Code  \\\n",
      "0  Public Works, Transportation & Commerce             AIR   \n",
      "1                         Community Health             DPH   \n",
      "\n",
      "           Department  Union Code                               Union  \\\n",
      "0  Airport Commission        38.0  Plumbers and Pipefitters, Local 38   \n",
      "1       Public Health       790.0    SEIU - Miscellaneous, Local 1021   \n",
      "\n",
      "  Job Family Code        Job Family         ...         Employee Identifier  \\\n",
      "0            7300  Journeyman Trade         ...                       52206   \n",
      "1            2600    Dietary & Food         ...                       52950   \n",
      "\n",
      "   Salaries  Overtime  Other Salaries  Total Salary  Retirement  \\\n",
      "0  98528.52      0.00         3955.59     102484.11    20142.55   \n",
      "1  69169.82    755.02         4179.08      74103.92    15641.92   \n",
      "\n",
      "   Health/Dental  Other Benefits  Total Benefits  Total Compensation  \n",
      "0       12918.24         8371.76        41432.55           143916.66  \n",
      "1       12499.30         5669.02        33810.24           107914.16  \n",
      "\n",
      "[2 rows x 22 columns]\n"
     ]
    }
   ],
   "source": [
    "# Looping through each filename in above path and selecting the required file\n",
    "for subdir,dirs, files in os.walk(data_path):\n",
    "    for file in files:\n",
    "        if file == 'employee_compensation.csv':\n",
    "            data=pd.read_csv(os.path.join(subdir,file))\n",
    "print(data.head(2))"
   ]
  },
  {
   "cell_type": "code",
   "execution_count": 4,
   "metadata": {
    "collapsed": false
   },
   "outputs": [
    {
     "name": "stdout",
     "output_type": "stream",
     "text": [
      "                        Organization Group          Department  \\\n",
      "0  Public Works, Transportation & Commerce  Airport Commission   \n",
      "1                         Community Health       Public Health   \n",
      "\n",
      "   Total Compensation  \n",
      "0           143916.66  \n",
      "1           107914.16  \n"
     ]
    }
   ],
   "source": [
    "# Capturing the required columns\n",
    "new_DF = data[[\"Organization Group\",\"Department\",\"Total Compensation\"]].copy()\n",
    "print(new_DF.head(2))"
   ]
  },
  {
   "cell_type": "code",
   "execution_count": 6,
   "metadata": {
    "collapsed": false
   },
   "outputs": [
    {
     "name": "stdout",
     "output_type": "stream",
     "text": [
      "                                          Total Compensation\n",
      "Organization Group   Department                             \n",
      "Community Health     Public Health              96190.190140\n",
      "Culture & Recreation Academy of Sciences       107319.727692\n",
      "                     Arts Commission            94339.597388\n",
      "                     Asian Art Museum           71401.520060\n",
      "                     Fine Arts Museum           44205.439895\n"
     ]
    }
   ],
   "source": [
    "# Calculating the mean at Organization Group and Department\n",
    "mean_DF = new_DF[[\"Organization Group\",\"Department\",\"Total Compensation\"]].copy()\n",
    "mean_DF = mean_DF.groupby(['Organization Group','Department'])['Total Compensation'].mean()\n",
    "mean_DF= pd.DataFrame(mean_DF)\n",
    "print(mean_DF.head(5))"
   ]
  },
  {
   "cell_type": "code",
   "execution_count": 7,
   "metadata": {
    "collapsed": false
   },
   "outputs": [
    {
     "name": "stdout",
     "output_type": "stream",
     "text": [
      "                                                                       Total Compensation\n",
      "Organization Group               Department                                              \n",
      "Community Health                 Public Health                               96190.190140\n",
      "Culture & Recreation             Law Library                                188424.362222\n",
      "                                 Academy of Sciences                        107319.727692\n",
      "                                 Arts Commission                             94339.597388\n",
      "                                 War Memorial                                76250.068022\n",
      "                                 Asian Art Museum                            71401.520060\n",
      "                                 Public Library                              70446.352147\n",
      "                                 Fine Arts Museum                            44205.439895\n",
      "                                 Recreation and Park Commission              38912.859465\n",
      "General Administration & Finance City Attorney                              166082.677561\n",
      "                                 Retirement System                          117717.658589\n",
      "                                 General Services Agency - Technology       110783.680158\n",
      "                                 Mayor                                      110765.391333\n",
      "                                 Controller                                 104515.234944\n",
      "                                 Ethics Commission                           98631.380366\n",
      "                                 Assessor/Recorder                           89994.260614\n",
      "                                 City Planning                               89022.876966\n",
      "                                 General Services Agency - City Admin        86123.547609\n",
      "                                 Treasurer/Tax Collector                     85449.253170\n",
      "                                 Board of Supervisors                        78801.347641\n"
     ]
    },
    {
     "name": "stderr",
     "output_type": "stream",
     "text": [
      "C:\\Users\\prash\\Anaconda3\\lib\\site-packages\\ipykernel\\__main__.py:3: FutureWarning: order is deprecated, use sort_values(...)\n",
      "  app.launch_new_instance()\n"
     ]
    }
   ],
   "source": [
    "# Sorting the above calculated mean\n",
    "temp = mean_DF['Total Compensation'].groupby(level=0, group_keys=False)\n",
    "sorted_DF = temp.apply(lambda x: x.order(ascending=False))\n",
    "\n",
    "sorted_DF = pd.DataFrame(sorted_DF)\n",
    "print(sorted_DF.head(20))"
   ]
  },
  {
   "cell_type": "code",
   "execution_count": 8,
   "metadata": {
    "collapsed": true
   },
   "outputs": [],
   "source": [
    "# Creating a function to create a csv file to save the above captured data\n",
    "def save_to_CSV():\n",
    "    if not os.path.exists(home_path+\"\\\\Downloads\\\\Documents\\\\Data Analysis Python\\\\DAUP_2017\\\\Assignment_PVS\\\\Assignment 3\\\\Output\\\\Q2_Part_1\"):\n",
    "        os.makedirs(home_path+\"\\\\Downloads\\\\Documents\\\\Data Analysis Python\\\\DAUP_2017\\\\Assignment_PVS\\\\Assignment 3\\\\Output\\\\Q2_Part_1\")\n",
    "    \n",
    "    with open(home_path+'\\\\Downloads\\\\Documents\\\\Data Analysis Python\\\\DAUP_2017\\\\Assignment_PVS\\\\Assignment 3\\\\Output\\\\Q2_Part_1\\\\Q2_Part_1.csv', 'w') as myfile:\n",
    "        myfile.write(sorted_DF.to_csv(index=False))\n",
    "\n",
    "# Calling the function\n",
    "save_to_CSV()"
   ]
  }
 ],
 "metadata": {
  "anaconda-cloud": {},
  "kernelspec": {
   "display_name": "Python [conda root]",
   "language": "python",
   "name": "conda-root-py"
  },
  "language_info": {
   "codemirror_mode": {
    "name": "ipython",
    "version": 3
   },
   "file_extension": ".py",
   "mimetype": "text/x-python",
   "name": "python",
   "nbconvert_exporter": "python",
   "pygments_lexer": "ipython3",
   "version": "3.5.2"
  }
 },
 "nbformat": 4,
 "nbformat_minor": 1
}
