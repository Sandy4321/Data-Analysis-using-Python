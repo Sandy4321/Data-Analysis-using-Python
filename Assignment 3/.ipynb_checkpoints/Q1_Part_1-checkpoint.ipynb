{
 "cells": [
  {
   "cell_type": "code",
   "execution_count": 1,
   "metadata": {
    "collapsed": false
   },
   "outputs": [],
   "source": [
    "# Importing all required modules\n",
    "import os\n",
    "from os import listdir\n",
    "from os.path import isfile, join\n",
    "import glob\n",
    "import csv\n",
    "import pandas as pd\n",
    "import calendar"
   ]
  },
  {
   "cell_type": "code",
   "execution_count": 2,
   "metadata": {
    "collapsed": false
   },
   "outputs": [],
   "source": [
    "# Creating the path to read the input file\n",
    "home_path = os.path.expanduser(\"~\")\n",
    "data_path = home_path+\"\\\\Downloads\\\\Documents\\\\Data Analysis Python\\\\DAUP_2017\\\\Assignment_PVS\\\\Assignment 3\\\\Data\""
   ]
  },
  {
   "cell_type": "code",
   "execution_count": 4,
   "metadata": {
    "collapsed": false
   },
   "outputs": [
    {
     "name": "stdout",
     "output_type": "stream",
     "text": [
      "   UNIQUE KEY    DATE  TIME BOROUGH  ZIP CODE   LATITUDE  LONGITUDE  \\\n",
      "0     3146911  1/1/15  0:20  QUEENS   11358.0  40.751847 -73.787862   \n",
      "1     3146180  1/1/15  0:20     NaN       NaN  40.771289 -73.946693   \n",
      "\n",
      "                    LOCATION ON STREET NAME CROSS STREET NAME  \\\n",
      "0   (40.7518471, -73.787862)      47 AVENUE        193 STREET   \n",
      "1  (40.7712888, -73.9466928)            NaN               NaN   \n",
      "\n",
      "        ...                      VEHICLE 1 TYPE  VEHICLE 2 TYPE  \\\n",
      "0       ...         SPORT UTILITY/STATION WAGON             NaN   \n",
      "1       ...                   PASSENGER VEHICLE             NaN   \n",
      "\n",
      "   VEHICLE 3 TYPE  VEHICLE 4 TYPE  VEHICLE 5 TYPE  \\\n",
      "0             NaN             NaN             NaN   \n",
      "1             NaN             NaN             NaN   \n",
      "\n",
      "              VEHICLE 1 FACTOR  VEHICLE 2 FACTOR  VEHICLE 3 FACTOR  \\\n",
      "0  TRAFFIC CONTROL DISREGARDED               NaN               NaN   \n",
      "1               ANIMALS ACTION               NaN               NaN   \n",
      "\n",
      "   VEHICLE 4 FACTOR VEHICLE 5 FACTOR  \n",
      "0               NaN              NaN  \n",
      "1               NaN              NaN  \n",
      "\n",
      "[2 rows x 29 columns]\n"
     ]
    }
   ],
   "source": [
    "# Looping through each filename in above path and selecting the required file\n",
    "for subdir,dirs, files in os.walk(data_path):\n",
    "    for file in files:\n",
    "        if file == 'vehicle_collisions.csv':\n",
    "            data=pd.read_csv(os.path.join(subdir,file))\n",
    "print(data.head(2))"
   ]
  },
  {
   "cell_type": "code",
   "execution_count": 5,
   "metadata": {
    "collapsed": false
   },
   "outputs": [
    {
     "name": "stdout",
     "output_type": "stream",
     "text": [
      "   UNIQUE KEY       DATE  TIME BOROUGH  ZIP CODE   LATITUDE  LONGITUDE  \\\n",
      "0     3146911 2015-01-01  0:20  QUEENS   11358.0  40.751847 -73.787862   \n",
      "1     3146180 2015-01-01  0:20     NaN       NaN  40.771289 -73.946693   \n",
      "\n",
      "                    LOCATION ON STREET NAME CROSS STREET NAME  ...   \\\n",
      "0   (40.7518471, -73.787862)      47 AVENUE        193 STREET  ...    \n",
      "1  (40.7712888, -73.9466928)            NaN               NaN  ...    \n",
      "\n",
      "  VEHICLE 3 TYPE  VEHICLE 4 TYPE  VEHICLE 5 TYPE             VEHICLE 1 FACTOR  \\\n",
      "0            NaN             NaN             NaN  TRAFFIC CONTROL DISREGARDED   \n",
      "1            NaN             NaN             NaN               ANIMALS ACTION   \n",
      "\n",
      "   VEHICLE 2 FACTOR  VEHICLE 3 FACTOR  VEHICLE 4 FACTOR  VEHICLE 5 FACTOR  \\\n",
      "0               NaN               NaN               NaN               NaN   \n",
      "1               NaN               NaN               NaN               NaN   \n",
      "\n",
      "   MONTH  YEAR  \n",
      "0    Jan  2015  \n",
      "1    Jan  2015  \n",
      "\n",
      "[2 rows x 31 columns]\n"
     ]
    }
   ],
   "source": [
    "# Formatting the date, adding month and year to ease calculation\n",
    "data[\"DATE\"] = pd.to_datetime(data.DATE)\n",
    "data[\"MONTH\"] = data.DATE.dt.month\n",
    "data[\"MONTH\"] = data[\"MONTH\"].apply(lambda x: calendar.month_abbr [x])\n",
    "data[\"YEAR\"] = data.DATE.dt.year\n",
    "print(data.head(2))"
   ]
  },
  {
   "cell_type": "code",
   "execution_count": 6,
   "metadata": {
    "collapsed": false
   },
   "outputs": [
    {
     "name": "stdout",
     "output_type": "stream",
     "text": [
      "  MONTH  COUNT\n",
      "0   Apr   3540\n",
      "1   Aug   2844\n"
     ]
    }
   ],
   "source": [
    "# Counting monthwise the total accidents in 2016 in Manhattan\n",
    "data[\"COUNT\"] = 1\n",
    "Manhattan_DF = pd.DataFrame(data[(data.YEAR == 2016) & (data.BOROUGH == \"MANHATTAN\")].groupby(\"MONTH\").COUNT.sum().reset_index())\n",
    "print(Manhattan_DF.head(2))"
   ]
  },
  {
   "cell_type": "code",
   "execution_count": 8,
   "metadata": {
    "collapsed": false
   },
   "outputs": [
    {
     "name": "stdout",
     "output_type": "stream",
     "text": [
      "  MONTH  COUNT\n",
      "0   Apr  18331\n",
      "1   Aug  19678\n"
     ]
    }
   ],
   "source": [
    "# Counting monthwise the total accidents in New York\n",
    "NYC_DF = pd.DataFrame(data[(data.YEAR == 2016)].groupby(\"MONTH\").COUNT.sum().reset_index())\n",
    "print(NYC_DF.head(2))"
   ]
  },
  {
   "cell_type": "code",
   "execution_count": 9,
   "metadata": {
    "collapsed": false
   },
   "outputs": [
    {
     "name": "stdout",
     "output_type": "stream",
     "text": [
      "  MONTH  MANHATTAN  NEWYORK\n",
      "0   Apr       3540    18331\n",
      "1   Aug       2844    19678\n"
     ]
    }
   ],
   "source": [
    "# Merging the above two data based on month\n",
    "total_DF = pd.merge(Manhattan_DF, NYC_DF , on ='MONTH' , how='inner')\n",
    "total_DF.columns = [\"MONTH\",\"MANHATTAN\",\"NEWYORK\"]\n",
    "print(total_DF.head(2))"
   ]
  },
  {
   "cell_type": "code",
   "execution_count": 11,
   "metadata": {
    "collapsed": false
   },
   "outputs": [
    {
     "name": "stdout",
     "output_type": "stream",
     "text": [
      "  MONTH  MANHATTAN  NEWYORK  Percentage\n",
      "0   Apr       3540    18331    0.193115\n",
      "1   Aug       2844    19678    0.144527\n"
     ]
    }
   ],
   "source": [
    "# Calculating the accident percentage for each month\n",
    "total_DF[\"Percentage\"] = (total_DF.MANHATTAN / total_DF.NEWYORK)\n",
    "print(total_DF.head(2))"
   ]
  },
  {
   "cell_type": "code",
   "execution_count": 12,
   "metadata": {
    "collapsed": false
   },
   "outputs": [],
   "source": [
    "# Creating a function to create a csv file to save the above captured data\n",
    "def save_to_CSV():\n",
    "    if not os.path.exists(home_path+\"\\\\Downloads\\\\Documents\\\\Data Analysis Python\\\\DAUP_2017\\\\Assignment_PVS\\\\Assignment 3\\\\Output\\\\Q1_Part_1\"):\n",
    "        os.makedirs(home_path+\"\\\\Downloads\\\\Documents\\\\Data Analysis Python\\\\DAUP_2017\\\\Assignment_PVS\\\\Assignment 3\\\\Output\\\\Q1_Part_1\")\n",
    "    \n",
    "    with open(home_path+'\\\\Downloads\\\\Documents\\\\Data Analysis Python\\\\DAUP_2017\\\\Assignment_PVS\\\\Assignment 3\\\\Output\\\\Q1_Part_1\\\\Q1_Part_1.csv', 'w') as myfile:\n",
    "        myfile.write(total_DF.to_csv(index=False))\n",
    "        \n",
    "# Calling the function        \n",
    "save_to_CSV()"
   ]
  }
 ],
 "metadata": {
  "anaconda-cloud": {},
  "kernelspec": {
   "display_name": "Python [conda root]",
   "language": "python",
   "name": "conda-root-py"
  },
  "language_info": {
   "codemirror_mode": {
    "name": "ipython",
    "version": 3
   },
   "file_extension": ".py",
   "mimetype": "text/x-python",
   "name": "python",
   "nbconvert_exporter": "python",
   "pygments_lexer": "ipython3",
   "version": "3.5.2"
  }
 },
 "nbformat": 4,
 "nbformat_minor": 1
}
