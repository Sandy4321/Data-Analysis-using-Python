{
 "cells": [
  {
   "cell_type": "code",
   "execution_count": 1,
   "metadata": {
    "collapsed": true
   },
   "outputs": [],
   "source": [
    "# Importing all required modules\n",
    "import os\n",
    "from os import listdir\n",
    "from os.path import isfile, join\n",
    "import glob\n",
    "import csv\n",
    "import pandas as pd\n",
    "import calendar\n",
    "import numpy as np"
   ]
  },
  {
   "cell_type": "code",
   "execution_count": 2,
   "metadata": {
    "collapsed": false
   },
   "outputs": [],
   "source": [
    "# Creating the path to read the input file\n",
    "home_path = os.path.expanduser(\"~\")\n",
    "data_path = home_path+\"\\\\Downloads\\\\Documents\\\\Data Analysis Python\\\\DAUP_2017\\\\Assignment_PVS\\\\Assignment 3\\\\Data\""
   ]
  },
  {
   "cell_type": "code",
   "execution_count": 3,
   "metadata": {
    "collapsed": false
   },
   "outputs": [
    {
     "name": "stdout",
     "output_type": "stream",
     "text": [
      "  Year Type  Year  Organization Group Code  \\\n",
      "0  Calendar  2013                        2   \n",
      "1    Fiscal  2015                        4   \n",
      "\n",
      "                        Organization Group Department Code  \\\n",
      "0  Public Works, Transportation & Commerce             AIR   \n",
      "1                         Community Health             DPH   \n",
      "\n",
      "           Department  Union Code                               Union  \\\n",
      "0  Airport Commission        38.0  Plumbers and Pipefitters, Local 38   \n",
      "1       Public Health       790.0    SEIU - Miscellaneous, Local 1021   \n",
      "\n",
      "  Job Family Code        Job Family         ...         Employee Identifier  \\\n",
      "0            7300  Journeyman Trade         ...                       52206   \n",
      "1            2600    Dietary & Food         ...                       52950   \n",
      "\n",
      "   Salaries  Overtime  Other Salaries  Total Salary  Retirement  \\\n",
      "0  98528.52      0.00         3955.59     102484.11    20142.55   \n",
      "1  69169.82    755.02         4179.08      74103.92    15641.92   \n",
      "\n",
      "   Health/Dental  Other Benefits  Total Benefits  Total Compensation  \n",
      "0       12918.24         8371.76        41432.55           143916.66  \n",
      "1       12499.30         5669.02        33810.24           107914.16  \n",
      "\n",
      "[2 rows x 22 columns]\n"
     ]
    }
   ],
   "source": [
    "# Looping through each filename in above path and selecting the required file\n",
    "for subdir,dirs, files in os.walk(data_path):\n",
    "    for file in files:\n",
    "        if file == 'employee_compensation.csv':\n",
    "            data=pd.read_csv(os.path.join(subdir,file))\n",
    "print(data.head(2))"
   ]
  },
  {
   "cell_type": "code",
   "execution_count": 4,
   "metadata": {
    "collapsed": false
   },
   "outputs": [
    {
     "name": "stdout",
     "output_type": "stream",
     "text": [
      "  Year Type  Employee Identifier        Job Family  Salaries  Overtime  \\\n",
      "0  Calendar                52206  Journeyman Trade  98528.52      0.00   \n",
      "1    Fiscal                52950    Dietary & Food  69169.82    755.02   \n",
      "\n",
      "   Total Benefits  Total Compensation  \n",
      "0        41432.55           143916.66  \n",
      "1        33810.24           107914.16  \n"
     ]
    }
   ],
   "source": [
    "# Capturing the required columns\n",
    "emp_DF = data[[\"Year Type\",\"Employee Identifier\",\"Job Family\",\"Salaries\",\"Overtime\",\"Total Benefits\",\"Total Compensation\"]].copy()\n",
    "print(emp_DF.head(2))"
   ]
  },
  {
   "cell_type": "code",
   "execution_count": 5,
   "metadata": {
    "collapsed": false
   },
   "outputs": [
    {
     "name": "stdout",
     "output_type": "stream",
     "text": [
      "  Year Type  Employee Identifier                     Job Family  Salaries  \\\n",
      "0  Calendar                52206               Journeyman Trade  98528.52   \n",
      "2  Calendar                33958                     Management    200.00   \n",
      "3  Calendar                33073                  Legal & Court   1783.00   \n",
      "5  Calendar                23930  Clerical, Secretarial & Steno  80207.24   \n",
      "7  Calendar                38054            Public Service Aide  24180.00   \n",
      "\n",
      "   Overtime  Total Benefits  Total Compensation  \n",
      "0      0.00        41432.55           143916.66  \n",
      "2      0.00           67.28              267.28  \n",
      "3      0.00          736.13             2519.13  \n",
      "5   2232.53        35843.78           119851.55  \n",
      "7      0.00        11956.70            36136.70  \n"
     ]
    }
   ],
   "source": [
    "# Considering only those employees where year type is Calendar\n",
    "emp_DF = emp_DF[(emp_DF['Year Type'] == 'Calendar')]\n",
    "print(emp_DF.head(5))"
   ]
  },
  {
   "cell_type": "code",
   "execution_count": 6,
   "metadata": {
    "collapsed": false
   },
   "outputs": [
    {
     "name": "stdout",
     "output_type": "stream",
     "text": [
      "   Employee Identifier  Total Compensation\n",
      "0                    1        60577.913333\n",
      "1                    2        15741.910000\n",
      "2                    3        21237.550000\n",
      "3                    4        26526.275000\n",
      "4                    5        22415.950000\n"
     ]
    }
   ],
   "source": [
    "# Calculating mean of the total compensation based on employee identifier\n",
    "emp_DF_total_compenstn = emp_DF.groupby('Employee Identifier', as_index=False)['Total Compensation'].mean()\n",
    "print(emp_DF_total_compenstn.head(5))"
   ]
  },
  {
   "cell_type": "code",
   "execution_count": 7,
   "metadata": {
    "collapsed": false
   },
   "outputs": [
    {
     "name": "stdout",
     "output_type": "stream",
     "text": [
      "   Employee Identifier  Total Benefits\n",
      "0                    1    20213.936667\n",
      "1                    2     4680.210000\n",
      "2                    3     6550.720000\n",
      "3                    4     7741.395000\n",
      "4                    5     2885.545000\n"
     ]
    }
   ],
   "source": [
    "# Calculating mean of the total benefits based on employee identifier\n",
    "emp_DF_total_benefit = emp_DF.groupby('Employee Identifier', as_index=False)['Total Benefits'].mean()\n",
    "print(emp_DF_total_benefit.head(5))"
   ]
  },
  {
   "cell_type": "code",
   "execution_count": 8,
   "metadata": {
    "collapsed": false
   },
   "outputs": [
    {
     "name": "stdout",
     "output_type": "stream",
     "text": [
      "   Employee Identifier  Total Compensation  Total Benefits\n",
      "0                    1        60577.913333    20213.936667\n",
      "1                    2        15741.910000     4680.210000\n",
      "2                    3        21237.550000     6550.720000\n",
      "3                    4        26526.275000     7741.395000\n",
      "4                    5        22415.950000     2885.545000\n"
     ]
    }
   ],
   "source": [
    "# Merging the above two mean data in a single dataframe based on employee identifier\n",
    "final_DF = pd.merge(emp_DF_total_compenstn,emp_DF_total_benefit,on ='Employee Identifier' , how='inner')\n",
    "final_DF.columns = [\"Employee Identifier\",\"Total Compensation\",\"Total Benefits\"]\n",
    "print(final_DF.head(5))"
   ]
  },
  {
   "cell_type": "code",
   "execution_count": 9,
   "metadata": {
    "collapsed": false
   },
   "outputs": [
    {
     "name": "stdout",
     "output_type": "stream",
     "text": [
      "   Year Type  Employee Identifier                     Job Family   Salaries  \\\n",
      "14  Calendar                23029     Agriculture & Horticulture   63978.00   \n",
      "23  Calendar                20763  Administrative-Labor & Trades  133977.95   \n",
      "38  Calendar                 8705               Journeyman Trade   86530.02   \n",
      "40  Calendar                13888                Police Services  117139.22   \n",
      "44  Calendar                38574                  Fire Services  130341.65   \n",
      "\n",
      "    Overtime  Total Benefits  Total Compensation  \n",
      "14  17039.61        34064.57           117266.41  \n",
      "23  20699.15        48600.84           203277.94  \n",
      "38  17962.95        40912.58           155960.76  \n",
      "40  20576.29        37835.64           181298.64  \n",
      "44  29607.28        46842.09           223083.84  \n"
     ]
    }
   ],
   "source": [
    "# Calculating the actual salaries based on overtime the an employee did\n",
    "salaries_DF = emp_DF[(emp_DF['Overtime'] > 0.05 * emp_DF['Salaries'])]\n",
    "print(salaries_DF.head(5))"
   ]
  },
  {
   "cell_type": "code",
   "execution_count": 10,
   "metadata": {
    "collapsed": false
   },
   "outputs": [
    {
     "name": "stdout",
     "output_type": "stream",
     "text": [
      "                       Job Family  Total Benefits  Total Compensation\n",
      "14     Agriculture & Horticulture        34064.57           117266.41\n",
      "23  Administrative-Labor & Trades        48600.84           203277.94\n",
      "38               Journeyman Trade        40912.58           155960.76\n",
      "40                Police Services        37835.64           181298.64\n",
      "44                  Fire Services        46842.09           223083.84\n"
     ]
    }
   ],
   "source": [
    "# Capturing only the required columns from above output\n",
    "job_family_DF = salaries_DF[[\"Job Family\",\"Total Benefits\",\"Total Compensation\"]].copy()\n",
    "print(job_family_DF.head(5))"
   ]
  },
  {
   "cell_type": "code",
   "execution_count": 11,
   "metadata": {
    "collapsed": false
   },
   "outputs": [
    {
     "name": "stdout",
     "output_type": "stream",
     "text": [
      "                      Job Family  Total Benefits\n",
      "0         Administrative-DPW/PUC    51357.650000\n",
      "1  Administrative-Labor & Trades    40301.818718\n",
      "2     Agriculture & Horticulture    29578.258462\n",
      "3              Airport Operation    34531.437719\n",
      "4  Budget, Admn & Stats Analysis    26404.129524\n"
     ]
    }
   ],
   "source": [
    "# Calculating mean of total benefits at each Job Family level\n",
    "job_family_total_benefits = job_family_DF.groupby('Job Family', as_index=False)['Total Benefits'].mean()\n",
    "print(job_family_total_benefits.head(5))"
   ]
  },
  {
   "cell_type": "code",
   "execution_count": 12,
   "metadata": {
    "collapsed": false
   },
   "outputs": [
    {
     "name": "stdout",
     "output_type": "stream",
     "text": [
      "                      Job Family  Total Compensation\n",
      "0         Administrative-DPW/PUC       211601.430000\n",
      "1  Administrative-Labor & Trades       183350.857436\n",
      "2     Agriculture & Horticulture       100279.346697\n",
      "3              Airport Operation       126629.480938\n",
      "4  Budget, Admn & Stats Analysis        91785.631667\n"
     ]
    }
   ],
   "source": [
    "# Calculating mean of total compensation at each Job Family level\n",
    "job_family_total_compenstn = job_family_DF.groupby('Job Family', as_index=False)['Total Compensation'].mean()\n",
    "print(job_family_total_compenstn.head(5))"
   ]
  },
  {
   "cell_type": "code",
   "execution_count": 13,
   "metadata": {
    "collapsed": false
   },
   "outputs": [
    {
     "name": "stdout",
     "output_type": "stream",
     "text": [
      "                      Job Family  Total Benefits  Total Compensation\n",
      "0         Administrative-DPW/PUC    51357.650000       211601.430000\n",
      "1  Administrative-Labor & Trades    40301.818718       183350.857436\n",
      "2     Agriculture & Horticulture    29578.258462       100279.346697\n",
      "3              Airport Operation    34531.437719       126629.480938\n",
      "4  Budget, Admn & Stats Analysis    26404.129524        91785.631667\n"
     ]
    }
   ],
   "source": [
    "# Merging the above two outputs based on Job Family\n",
    "final_job_family_DF = pd.merge(job_family_total_benefits,job_family_total_compenstn,on ='Job Family' , how='inner')\n",
    "final_job_family_DF.columns = [\"Job Family\",\"Total Benefits\",\"Total Compensation\"]\n",
    "print(final_job_family_DF.head(5))"
   ]
  },
  {
   "cell_type": "code",
   "execution_count": 14,
   "metadata": {
    "collapsed": false
   },
   "outputs": [
    {
     "name": "stdout",
     "output_type": "stream",
     "text": [
      "                      Job Family  Total Benefits  Total Compensation  \\\n",
      "0         Administrative-DPW/PUC    51357.650000       211601.430000   \n",
      "1  Administrative-Labor & Trades    40301.818718       183350.857436   \n",
      "2     Agriculture & Horticulture    29578.258462       100279.346697   \n",
      "3              Airport Operation    34531.437719       126629.480938   \n",
      "4  Budget, Admn & Stats Analysis    26404.129524        91785.631667   \n",
      "\n",
      "   Percentage  \n",
      "0   24.270937  \n",
      "1   21.980709  \n",
      "2   29.495863  \n",
      "3   27.269667  \n",
      "4   28.767171  \n"
     ]
    }
   ],
   "source": [
    "# Calculating the percentage of total benefits to total compensation\n",
    "final_job_family_DF[\"Percentage\"] = (final_job_family_DF['Total Benefits']/ final_job_family_DF['Total Compensation'])*100\n",
    "print(final_job_family_DF.head(5))"
   ]
  },
  {
   "cell_type": "code",
   "execution_count": 18,
   "metadata": {
    "collapsed": false
   },
   "outputs": [],
   "source": [
    "# Creating a function to create a csv file to save the above captured data\n",
    "def save_to_CSV():\n",
    "    if not os.path.exists(home_path+\"\\\\Downloads\\\\Documents\\\\Data Analysis Python\\\\DAUP_2017\\\\Assignment_PVS\\\\Assignment 3\\\\Output\\\\Q2_Part_2\"):\n",
    "        os.makedirs(home_path+\"\\\\Downloads\\\\Documents\\\\Data Analysis Python\\\\DAUP_2017\\\\Assignment_PVS\\\\Assignment 3\\\\Output\\\\Q2_Part_2\")\n",
    "    \n",
    "    with open(home_path+'\\\\Downloads\\\\Documents\\\\Data Analysis Python\\\\DAUP_2017\\\\Assignment_PVS\\\\Assignment 3\\\\Output\\\\Q2_Part_2\\\\Q2_Part_2.csv', 'w') as myfile:\n",
    "        myfile.write(final_job_family_DF.to_csv(index=False))\n",
    "        \n",
    "# Calling the function\n",
    "save_to_CSV()"
   ]
  }
 ],
 "metadata": {
  "anaconda-cloud": {},
  "kernelspec": {
   "display_name": "Python [conda root]",
   "language": "python",
   "name": "conda-root-py"
  },
  "language_info": {
   "codemirror_mode": {
    "name": "ipython",
    "version": 3
   },
   "file_extension": ".py",
   "mimetype": "text/x-python",
   "name": "python",
   "nbconvert_exporter": "python",
   "pygments_lexer": "ipython3",
   "version": "3.5.2"
  }
 },
 "nbformat": 4,
 "nbformat_minor": 1
}
