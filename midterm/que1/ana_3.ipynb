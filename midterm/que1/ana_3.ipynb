{
 "cells": [
  {
   "cell_type": "markdown",
   "metadata": {
    "collapsed": true
   },
   "source": [
    "# Analysis 3\n",
    "- Display name and email id of all people who mailed CEO for refund"
   ]
  },
  {
   "cell_type": "code",
   "execution_count": null,
   "metadata": {
    "collapsed": true
   },
   "outputs": [],
   "source": [
    "# Prepared a list for convicts\n",
    "import os\n",
    "import re\n",
    "import nltk\n",
    "import time\n",
    "import datetime\n",
    "import email.utils\n",
    "from email.parser import Parser"
   ]
  },
  {
   "cell_type": "code",
   "execution_count": 26,
   "metadata": {
    "collapsed": false
   },
   "outputs": [],
   "source": [
    "all_employees = ['lay-k']\n",
    "\n",
    "people_plea_list = []\n",
    "\n",
    "emp_name_list = []\n",
    "\n",
    "plea_list = ['demand', 'donate', 'enron', 'stock', 'sales']\n",
    "\n",
    "plea_count = 0\n",
    "\n",
    "for emp in all_employees:\n",
    "    filepath_emp = '~\\\\midterm\\\\data\\\\enron\\\\maildir\\\\' + emp \n",
    "    filepath_actual = os.path.expanduser(filepath_emp)\n",
    "    emp_name_list.append([emp,filepath_actual])   \n",
    "\n",
    "for emp, emp_path in emp_name_list:\n",
    "    for subdir, dirs, files in os.walk(emp_path):\n",
    "        for file in files:\n",
    "            if(file[0] != '.'):\n",
    "                try:\n",
    "                    response = open(os.path.join(subdir, file), 'r', errors = 'ignore')\n",
    "                    email_emp = Parser().parsestr(response.read())\n",
    "                \n",
    "                    for x in plea_list:\n",
    "                        for y in nltk.word_tokenize(email_emp['Subject']):\n",
    "                            if x == y.lower():\n",
    "                                plea_count = plea_count + 1\n",
    "                    if plea_count > 2:\n",
    "                        payload = email_emp.get_payload()\n",
    "                        emailid = email_emp['From']\n",
    "                        email_date = email.utils.parsedate(email_emp['Date'])\n",
    "                        formatted_date = str(email_date[0]) + '-' + str(email_date[1]) + '-' + str(email_date[2])\n",
    "                        people_plea_list.append((payload[:payload.find('\\n')], emailid, formatted_date))\n",
    "                    plea_count = 0\n",
    "                \n",
    "                except:\n",
    "                    pass                     \n",
    "                "
   ]
  }
 ],
 "metadata": {
  "anaconda-cloud": {},
  "kernelspec": {
   "display_name": "Python [conda root]",
   "language": "python",
   "name": "conda-root-py"
  },
  "language_info": {
   "codemirror_mode": {
    "name": "ipython",
    "version": 3
   },
   "file_extension": ".py",
   "mimetype": "text/x-python",
   "name": "python",
   "nbconvert_exporter": "python",
   "pygments_lexer": "ipython3",
   "version": "3.5.2"
  }
 },
 "nbformat": 4,
 "nbformat_minor": 1
}
