{
 "cells": [
  {
   "cell_type": "markdown",
   "metadata": {
    "collapsed": true
   },
   "source": [
    "# Analysis 2\n",
    "- List of all the most common popular articles that were emailed, shared and viewed alonwith their respective dates"
   ]
  },
  {
   "cell_type": "code",
   "execution_count": 1,
   "metadata": {
    "collapsed": true
   },
   "outputs": [],
   "source": [
    "import json\n",
    "import os\n",
    "import nltk\n",
    "import operator\n",
    "import numpy as np\n",
    "from matplotlib import pyplot as plt"
   ]
  },
  {
   "cell_type": "code",
   "execution_count": 23,
   "metadata": {
    "collapsed": false
   },
   "outputs": [],
   "source": [
    "emailed_list = []\n",
    "shared_list = []\n",
    "viewed_list = []\n",
    "\n",
    "path_emailed = os.path.expanduser('~\\\\midterm\\\\data\\\\nyt\\\\mostpopular\\\\Emailed')\n",
    "path_shared = os.path.expanduser('~\\\\midterm\\\\data\\\\nyt\\\\mostpopular\\\\Shared')\n",
    "path_viewed = os.path.expanduser('~\\\\midterm\\\\data\\\\nyt\\\\mostpopular\\\\Viewed')\n",
    "\n",
    "for subdir, dirs, files in os.walk(path_emailed):\n",
    "    for file in files:\n",
    "        if(file[0] != '.'):\n",
    "            try:\n",
    "                received_response = open(os.path.join(subdir, file), 'r', errors = 'ignore')\n",
    "                data = json.load(received_response)\n",
    "    \n",
    "                for y in data['results']:\n",
    "                    emailed_list.append([y['title'], y['published_date']])\n",
    "                \n",
    "            except:\n",
    "                pass\n",
    "            \n",
    "for subdir, dirs, files in os.walk(path_shared):\n",
    "    for file in files:\n",
    "        if(file[0] != '.'):\n",
    "            try:\n",
    "                received_response = open(os.path.join(subdir, file), 'r', errors = 'ignore')\n",
    "                data = json.load(received_response)\n",
    "    \n",
    "                for y in data['results']:\n",
    "                    shared_list.append([y['title'], y['published_date']])\n",
    "                \n",
    "            except:\n",
    "                pass\n",
    "            \n",
    "for subdir, dirs, files in os.walk(path_viewed):\n",
    "    for file in files:\n",
    "        if(file[0] != '.'):\n",
    "            try:\n",
    "                received_response = open(os.path.join(subdir, file), 'r', errors = 'ignore')\n",
    "                data = json.load(received_response)\n",
    "    \n",
    "                for y in data['results']:\n",
    "                    viewed_list.append([y['title'], y['published_date']])\n",
    "                \n",
    "            except:\n",
    "                pass"
   ]
  },
  {
   "cell_type": "code",
   "execution_count": 25,
   "metadata": {
    "collapsed": false
   },
   "outputs": [],
   "source": [
    "list_compare1 = []\n",
    "\n",
    "for x in emailed_list:\n",
    "    for y in shared_list:\n",
    "        if x[0] == y[0]:\n",
    "            list_compare1.append([x[0], x[1], y[1]])"
   ]
  },
  {
   "cell_type": "code",
   "execution_count": 26,
   "metadata": {
    "collapsed": false
   },
   "outputs": [],
   "source": [
    "list_compare2 = []\n",
    "\n",
    "for x in list_compare1:\n",
    "    for y in viewed_list:\n",
    "        if x[0] == y[0]:\n",
    "            list_compare2.append([x[0], x[1], x[2], y[1]])"
   ]
  }
 ],
 "metadata": {
  "anaconda-cloud": {},
  "kernelspec": {
   "display_name": "Python [conda root]",
   "language": "python",
   "name": "conda-root-py"
  },
  "language_info": {
   "codemirror_mode": {
    "name": "ipython",
    "version": 3
   },
   "file_extension": ".py",
   "mimetype": "text/x-python",
   "name": "python",
   "nbconvert_exporter": "python",
   "pygments_lexer": "ipython3",
   "version": "3.5.2"
  }
 },
 "nbformat": 4,
 "nbformat_minor": 1
}
