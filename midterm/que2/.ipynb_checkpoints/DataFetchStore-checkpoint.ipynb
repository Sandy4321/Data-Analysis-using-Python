{
 "cells": [
  {
   "cell_type": "markdown",
   "metadata": {
    "collapsed": true
   },
   "source": [
    "# Data Fetch & Store"
   ]
  },
  {
   "cell_type": "code",
   "execution_count": 2,
   "metadata": {
    "collapsed": true
   },
   "outputs": [],
   "source": [
    "import requests\n",
    "import shutil\n",
    "import json\n",
    "import os"
   ]
  },
  {
   "cell_type": "code",
   "execution_count": 4,
   "metadata": {
    "collapsed": false
   },
   "outputs": [],
   "source": [
    "year_list = list(range(1996, 2017))\n",
    "month_list = list(range(1, 13))\n",
    "year_month_list = [(x, y) for x in year_list for y in month_list]\n",
    "\n",
    "articlesearch_date = [(str(x) + '0101', str(x) + '1231') for x in range(1996,2017)]\n",
    "article_search_pages = list(range(0,31))\n",
    "\n",
    "most_popular = ['Books', 'Education', 'Food', 'Technology', 'Science', 'Arts', 'Sports', 'Travel', 'Theater', 'Style']\n",
    "\n",
    "for x in year_list:\n",
    "    folder_path_archive = os.path.expanduser('~\\\\midterm\\\\data\\\\nyt\\\\archive\\\\' + str(x))\n",
    "    folder_path_article = os.path.expanduser('~\\\\midterm\\\\data\\\\nyt\\\\articlesearch\\\\' + str(x))\n",
    "    os.makedirs(folder_path_archive, exist_ok=True)\n",
    "    os.makedirs(folder_path_article, exist_ok=True)\n",
    "\n",
    "for y in ['Emailed', 'Shared', 'Viewed']:\n",
    "    folder_path_popular = os.path.expanduser('~\\\\midterm\\\\data\\\\nyt\\\\mostpopular\\\\' + y)\n",
    "    os.makedirs(folder_path_popular, exist_ok=True)\n",
    "\n",
    "nyt_archive_key = os.getenv('nyt_archive_key')\n",
    "nyt_articlesearch_key = os.getenv('nyt_articlesearch_key')\n",
    "nyt_mostpopular_key=os.getenv('nyt_mostpopular_key')"
   ]
  },
  {
   "cell_type": "code",
   "execution_count": 12,
   "metadata": {
    "collapsed": false
   },
   "outputs": [],
   "source": [
    "for x, y in year_month_list:\n",
    "    archive_url = 'http://api.nytimes.com/svc/archive/v1/' + str(x) + '/' + str(y) + '.json?api-key=' + str(nyt_archive_key)\n",
    "    received_response_archive = requests.get(archive_url)\n",
    "    source_file_archive = str(y) + '.json'\n",
    "    target_file_archive = os.path.expanduser('~\\\\midterm\\\\data\\\\nyt\\\\archive\\\\' + str(x) + '\\\\' + str(y) + '.json')\n",
    "    with open(source_file_archive, 'w') as jsonfile:\n",
    "        json.dump(received_response_archive.json(), jsonfile)\n",
    "    shutil.move(source_file_archive, target_file_archive)"
   ]
  },
  {
   "cell_type": "code",
   "execution_count": 22,
   "metadata": {
    "collapsed": false
   },
   "outputs": [],
   "source": [
    "for x, y in articlesearch_date:\n",
    "    for z in article_search_pages:\n",
    "        article_url = 'https://api.nytimes.com/svc/search/v2/articlesearch.json?page=' + str(z) + '&begin_date=' + str(x) + '&end_date=' + str(y) + '&api-key=' + str(nyt_articlesearch_key)\n",
    "        received_response_article = requests.get(article_url)\n",
    "        source_file_article = str(z) +'.json'\n",
    "        target_file_article = os.path.expanduser('~\\\\midterm\\\\data\\\\nyt\\\\articlesearch\\\\' + str(x[:4]) + '\\\\' + str(z) +'.json')\n",
    "        with open(source_file_article, 'w') as jsonfile:\n",
    "            json.dump(received_response_article.json(), jsonfile)\n",
    "        shutil.move(source_file_article, target_file_article)"
   ]
  },
  {
   "cell_type": "code",
   "execution_count": 8,
   "metadata": {
    "collapsed": false
   },
   "outputs": [],
   "source": [
    "for popular in most_popular:\n",
    "    emailed_url = 'https://api.nytimes.com/svc/mostpopular/v2/mostemailed/' + popular + '/30.json?api-key=' + str(nyt_mostpopular_key)\n",
    "    shard_url = 'https://api.nytimes.com/svc/mostpopular/v2/mostshared/' + popular + '/30.json?api-key=' + str(nyt_mostpopular_key)\n",
    "    viewed_url = 'https://api.nytimes.com/svc/mostpopular/v2/mostviewed/' + popular + '/30.json?api-key=' + str(nyt_mostpopular_key)\n",
    "    \n",
    "    received_response_emailed = requests.get(emailed_url)\n",
    "    received_response_shared = requests.get(shard_url)\n",
    "    received_response_viewed = requests.get(viewed_url)\n",
    "    \n",
    "    source_file_emailed = popular + '_emailed.json'\n",
    "    source_file_shared = popular + '_shared.json'\n",
    "    source_file_viewed = popular + '_viewed.json'\n",
    "    \n",
    "    target_file_emailed = os.path.expanduser('~\\\\midterm\\\\data\\\\nyt\\\\mostpopular\\\\Emailed\\\\' + popular + '_emailed.json')\n",
    "    target_file_shared = os.path.expanduser('~\\\\midterm\\\\data\\\\nyt\\\\mostpopular\\\\Shared\\\\' + popular + '_shared.json')\n",
    "    target_file_viewed = os.path.expanduser('~\\\\midterm\\\\data\\\\nyt\\\\mostpopular\\\\Viewed\\\\' + popular + '_viewed.json')\n",
    "    \n",
    "    with open(source_file_emailed, 'w') as jsonfile_emailed:\n",
    "        json.dump(received_response_emailed.json(), jsonfile_emailed)\n",
    "    shutil.move(source_file_emailed, target_file_emailed)\n",
    "    \n",
    "    with open(source_file_shared, 'w') as jsonfile_shared:\n",
    "        json.dump(received_response_shared.json(), jsonfile_shared)\n",
    "    shutil.move(source_file_shared, target_file_shared)\n",
    "    \n",
    "    with open(source_file_viewed, 'w') as jsonfile_viewed:\n",
    "        json.dump(received_response_viewed.json(), jsonfile_viewed)\n",
    "    shutil.move(source_file_viewed, target_file_viewed)"
   ]
  },
  {
   "cell_type": "code",
   "execution_count": null,
   "metadata": {
    "collapsed": false
   },
   "outputs": [],
   "source": []
  }
 ],
 "metadata": {
  "anaconda-cloud": {},
  "kernelspec": {
   "display_name": "Python [conda root]",
   "language": "python",
   "name": "conda-root-py"
  },
  "language_info": {
   "codemirror_mode": {
    "name": "ipython",
    "version": 3
   },
   "file_extension": ".py",
   "mimetype": "text/x-python",
   "name": "python",
   "nbconvert_exporter": "python",
   "pygments_lexer": "ipython3",
   "version": "3.5.2"
  }
 },
 "nbformat": 4,
 "nbformat_minor": 1
}
