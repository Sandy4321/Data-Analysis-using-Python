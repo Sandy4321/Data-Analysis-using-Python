{
 "cells": [
  {
   "cell_type": "markdown",
   "metadata": {
    "collapsed": true
   },
   "source": [
    "# Analysis 2\n",
    "- List of all the most common popular articles that were emailed, shared and viewed alonwith their respective dates"
   ]
  },
  {
   "cell_type": "code",
   "execution_count": 21,
   "metadata": {
    "collapsed": true
   },
   "outputs": [],
   "source": [
    "import json\n",
    "import os\n",
    "import operator\n",
    "import numpy as np\n",
    "from matplotlib import pyplot as plt"
   ]
  },
  {
   "cell_type": "code",
   "execution_count": 8,
   "metadata": {
    "collapsed": false
   },
   "outputs": [],
   "source": [
    "emailed_list = []\n",
    "shared_list = []\n",
    "viewed_list = []\n",
    "\n",
    "path_emailed = os.path.expanduser('~\\\\midterm\\\\data\\\\nyt\\\\mostpopular\\\\Emailed')\n",
    "path_shared = os.path.expanduser('~\\\\midterm\\\\data\\\\nyt\\\\mostpopular\\\\Shared')\n",
    "path_viewed = os.path.expanduser('~\\\\midterm\\\\data\\\\nyt\\\\mostpopular\\\\Viewed')\n",
    "\n",
    "for subdir, dirs, files in os.walk(path_emailed):\n",
    "    for file in files:\n",
    "        if(file[0] != '.'):\n",
    "            try:\n",
    "                received_response = open(os.path.join(subdir, file), 'r', errors = 'ignore')\n",
    "                data = json.load(received_response)\n",
    "    \n",
    "                for y in data['results']:\n",
    "                    emailed_list.append([y['title'], y['section'], y['published_date']])\n",
    "                \n",
    "            except:\n",
    "                pass\n",
    "            \n",
    "for subdir, dirs, files in os.walk(path_shared):\n",
    "    for file in files:\n",
    "        if(file[0] != '.'):\n",
    "            try:\n",
    "                received_response = open(os.path.join(subdir, file), 'r', errors = 'ignore')\n",
    "                data = json.load(received_response)\n",
    "    \n",
    "                for y in data['results']:\n",
    "                    shared_list.append([y['title'], y['published_date']])\n",
    "                \n",
    "            except:\n",
    "                pass\n",
    "            \n",
    "for subdir, dirs, files in os.walk(path_viewed):\n",
    "    for file in files:\n",
    "        if(file[0] != '.'):\n",
    "            try:\n",
    "                received_response = open(os.path.join(subdir, file), 'r', errors = 'ignore')\n",
    "                data = json.load(received_response)\n",
    "    \n",
    "                for y in data['results']:\n",
    "                    viewed_list.append([y['title'], y['published_date']])\n",
    "                \n",
    "            except:\n",
    "                pass"
   ]
  },
  {
   "cell_type": "code",
   "execution_count": 9,
   "metadata": {
    "collapsed": false
   },
   "outputs": [],
   "source": [
    "list_compare1 = []\n",
    "\n",
    "for x in emailed_list:\n",
    "    for y in shared_list:\n",
    "        if x[0] == y[0]:\n",
    "            list_compare1.append([x[0], x[1], x[2], y[1]])"
   ]
  },
  {
   "cell_type": "code",
   "execution_count": 12,
   "metadata": {
    "collapsed": false
   },
   "outputs": [],
   "source": [
    "list_compare2 = []\n",
    "\n",
    "for x in list_compare1:\n",
    "    for y in viewed_list:\n",
    "        if x[0] == y[0]:\n",
    "            list_compare2.append([x[0], x[1], x[2], x[3], y[1]])\n",
    "            "
   ]
  },
  {
   "cell_type": "code",
   "execution_count": 13,
   "metadata": {
    "collapsed": true
   },
   "outputs": [],
   "source": [
    "category_list = [x[1] for x in list_compare2]\n",
    "category_list_unique = set(x[1] for x in list_compare2)\n",
    "categ_dict = {}\n",
    "categ_count = 0\n",
    "\n",
    "for x in category_list_unique:\n",
    "    for y in category_list:\n",
    "        if x == y:\n",
    "            categ_count = categ_count + 1\n",
    "    categ_dict.update({x:categ_count})\n",
    "    categ_count = 0"
   ]
  },
  {
   "cell_type": "code",
   "execution_count": 17,
   "metadata": {
    "collapsed": false
   },
   "outputs": [],
   "source": [
    "categ_dict_sorted = sorted(categ_dict.items(), key=operator.itemgetter(1), reverse = True)"
   ]
  },
  {
   "cell_type": "code",
   "execution_count": 18,
   "metadata": {
    "collapsed": true
   },
   "outputs": [],
   "source": [
    "y_values = [x[1] for x in categ_dict_sorted[:10]]\n",
    "x_values = [y[0] for y in categ_dict_sorted[:10]]"
   ]
  },
  {
   "cell_type": "code",
   "execution_count": 23,
   "metadata": {
    "collapsed": false
   },
   "outputs": [
    {
     "data": {
      "image/png": "[encoded data removed]",
      "text/plain": [
       "<matplotlib.figure.Figure at 0x1edf848d630>"
      ]
     },
     "metadata": {},
     "output_type": "display_data"
    }
   ],
   "source": [
    "fig = plt.figure()\n",
    "ax = fig.add_subplot(111)\n",
    "ax.set_title(\"Common most popular article count for past 30 days\")\n",
    "\n",
    "width = .35\n",
    "ind = np.arange(len(y_values))\n",
    "plt.bar(ind, y_values, width=width)\n",
    "plt.xticks(ind + width / 2, x_values)\n",
    "\n",
    "fig.autofmt_xdate()\n",
    "\n",
    "save_path = os.path.expanduser('~\\\\midterm\\\\que2\\\\ana_2\\\\Most popular article count.pdf')\n",
    "\n",
    "plt.savefig(save_path)\n",
    "\n",
    "plt.show()"
   ]
  }
 ],
 "metadata": {
  "anaconda-cloud": {},
  "kernelspec": {
   "display_name": "Python [conda root]",
   "language": "python",
   "name": "conda-root-py"
  },
  "language_info": {
   "codemirror_mode": {
    "name": "ipython",
    "version": 3
   },
   "file_extension": ".py",
   "mimetype": "text/x-python",
   "name": "python",
   "nbconvert_exporter": "python",
   "pygments_lexer": "ipython3",
   "version": "3.5.2"
  }
 },
 "nbformat": 4,
 "nbformat_minor": 1
}
