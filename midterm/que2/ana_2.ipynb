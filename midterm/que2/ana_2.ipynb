{
 "cells": [
  {
   "cell_type": "markdown",
   "metadata": {
    "collapsed": true
   },
   "source": [
    "# Analysis 2\n",
    "- Read all articles that were mailed, shared and viewed from most popular api\n",
    "- Plucked the common articles that were emailed, shared and viewed\n",
    "- Counted their categories\n",
    "- Displayed top 10 categories and number of common articles in these categories\n",
    "- Plotted a graph to show captured information visually"
   ]
  },
  {
   "cell_type": "code",
   "execution_count": 1,
   "metadata": {
    "collapsed": true
   },
   "outputs": [],
   "source": [
    "# Importing the required modules\n",
    "import json\n",
    "import os\n",
    "import operator\n",
    "import numpy as np # Used only for arranging y axis values on graph plotted\n",
    "from matplotlib import pyplot as plt"
   ]
  },
  {
   "cell_type": "code",
   "execution_count": 2,
   "metadata": {
    "collapsed": false
   },
   "outputs": [],
   "source": [
    "emailed_list = []\n",
    "shared_list = []\n",
    "viewed_list = []\n",
    "\n",
    "path_emailed = os.path.expanduser('~\\\\midterm\\\\data\\\\nyt\\\\mostpopular\\\\Emailed') # Creating a path to fetch most emailed data\n",
    "path_shared = os.path.expanduser('~\\\\midterm\\\\data\\\\nyt\\\\mostpopular\\\\Shared') # Creating a path to fetch most shared data\n",
    "path_viewed = os.path.expanduser('~\\\\midterm\\\\data\\\\nyt\\\\mostpopular\\\\Viewed') # Creating a path to fetch most viewed data\n",
    "\n",
    "for subdir, dirs, files in os.walk(path_emailed): # Looping through each files present under directories and sub directories\n",
    "    for file in files: # Looping through each found directories, subdirectories or files\n",
    "        if(file[0] != '.'): # If selected file is a file and not a directory\n",
    "            try: # Putting whole code in a try except block to catch unwanted errors\n",
    "                received_response = open(os.path.join(subdir, file), 'r', errors = 'ignore') # Opening the file in read mode\n",
    "                data = json.load(received_response) # Reading the file content \n",
    "    \n",
    "                for y in data['results']: # Looping through each data section in opened file\n",
    "                    # Storing the article title, its section and published date\n",
    "                    emailed_list.append([y['title'], y['section'], y['published_date']]) \n",
    "                \n",
    "            except:\n",
    "                pass\n",
    "            \n",
    "for subdir, dirs, files in os.walk(path_shared): # Looping through each files present under directories and sub directories\n",
    "    for file in files: # Looping through each found directories, subdirectories or files\n",
    "        if(file[0] != '.'): # If selected file is a file and not a directory\n",
    "            try: # Putting whole code in a try except block to catch unwanted errors\n",
    "                received_response = open(os.path.join(subdir, file), 'r', errors = 'ignore') # Opening the file in read mode\n",
    "                data = json.load(received_response) # Reading the file content\n",
    "    \n",
    "                for y in data['results']: # Looping through each data section in opened file\n",
    "                    # Storing the article title and published date\n",
    "                    shared_list.append([y['title'], y['published_date']])\n",
    "                \n",
    "            except:\n",
    "                pass\n",
    "            \n",
    "for subdir, dirs, files in os.walk(path_viewed): # Looping through each files present under directories and sub directories\n",
    "    for file in files: # Looping through each found directories, subdirectories or files\n",
    "        if(file[0] != '.'): # If selected file is a file and not a directory\n",
    "            try: # Putting whole code in a try except block to catch unwanted errors\n",
    "                received_response = open(os.path.join(subdir, file), 'r', errors = 'ignore') # Opening the file in read mode\n",
    "                data = json.load(received_response) # Reading the file content\n",
    "    \n",
    "                for y in data['results']: # Looping through each data section in opened file\n",
    "                    # Storing the article title and published date\n",
    "                    viewed_list.append([y['title'], y['published_date']])\n",
    "                \n",
    "            except:\n",
    "                pass"
   ]
  },
  {
   "cell_type": "code",
   "execution_count": 3,
   "metadata": {
    "collapsed": false
   },
   "outputs": [],
   "source": [
    "list_compare1 = [] # Creating an empty list to store common articles in emailed and shared section\n",
    "\n",
    "for x in emailed_list: #Looping through each article in emailed section\n",
    "    for y in shared_list: #Looping through each article in shared section\n",
    "        if x[0] == y[0]: # If both article matches then adding that article to a list\n",
    "            list_compare1.append([x[0], x[1], x[2], y[1]])"
   ]
  },
  {
   "cell_type": "code",
   "execution_count": 4,
   "metadata": {
    "collapsed": false
   },
   "outputs": [],
   "source": [
    "list_compare2 = [] # Creating an empty list to store common articles in emailed, shared and viewed section\n",
    "\n",
    "for x in list_compare1: #Looping through each article in emailed and shared section\n",
    "    for y in viewed_list: #Looping through each article in viewed section\n",
    "        if x[0] == y[0]: # If both article matches then adding that article to a list\n",
    "            list_compare2.append([x[0], x[1], x[2], x[3], y[1]])\n",
    "            "
   ]
  },
  {
   "cell_type": "code",
   "execution_count": 5,
   "metadata": {
    "collapsed": true
   },
   "outputs": [],
   "source": [
    "category_list = [x[1] for x in list_compare2] # Storing all common articles in a list\n",
    "category_list_unique = set(x[1] for x in list_compare2) # Storing all unique common articles in a list\n",
    "categ_dict = {} # Creating an empty dictionary to store common articles and their frequency\n",
    "categ_count = 0 # Creating a count variable and assigning value 0 to it\n",
    "\n",
    "for x in category_list_unique: # Looping through each unique common articles\n",
    "    for y in category_list: # Looping through each common articles\n",
    "        if x == y: # If both matches then incrementing the article count by 1\n",
    "            categ_count = categ_count + 1\n",
    "    categ_dict.update({x:categ_count}) # Updating the dictionary with article category and its frequency\n",
    "    categ_count = 0 # Reassigning the temp count variable to 0 for outer for loop"
   ]
  },
  {
   "cell_type": "code",
   "execution_count": 6,
   "metadata": {
    "collapsed": false
   },
   "outputs": [
    {
     "name": "stdout",
     "output_type": "stream",
     "text": [
      "[('Travel', 9), ('Science', 8), ('Theater', 7), ('Education', 6), ('Food', 6), ('Arts', 5), ('Books', 5), ('Technology', 5), ('Sports', 5), ('Style', 2)]\n"
     ]
    }
   ],
   "source": [
    "# Sorting the dictionary in descending order of frequency\n",
    "categ_dict_sorted = sorted(categ_dict.items(), key=operator.itemgetter(1), reverse = True)\n",
    "\n",
    "# Displaying top 10 results\n",
    "print(categ_dict_sorted[:10])"
   ]
  },
  {
   "cell_type": "code",
   "execution_count": 7,
   "metadata": {
    "collapsed": true
   },
   "outputs": [],
   "source": [
    "y_values = [x[1] for x in categ_dict_sorted[:10]] # Storing top 10 frequencies to be used for y-axis\n",
    "x_values = [y[0] for y in categ_dict_sorted[:10]] # Storing top 10 frequencies to be used for y-axis"
   ]
  },
  {
   "cell_type": "code",
   "execution_count": 8,
   "metadata": {
    "collapsed": false
   },
   "outputs": [
    {
     "data": {
      "image/png": "[encoded data removed]",
      "text/plain": [
       "<matplotlib.figure.Figure at 0x2999c9ad400>"
      ]
     },
     "metadata": {},
     "output_type": "display_data"
    }
   ],
   "source": [
    "fig = plt.figure() # Calling the figure function from matplotlib module\n",
    "ax = fig.add_subplot(111) # Creating a subplot\n",
    "ax.set_title(\"Article Count common in all sections for past 30 days\") # Setting up the title for plot\n",
    "\n",
    "width = .35 # Setting the width between each element of histogram\n",
    "ind = np.arange(len(y_values)) # Arranging the frequencies on y axis\n",
    "plt.bar(ind, y_values, width=width) # Plotting the chart\n",
    "plt.xticks(ind + width / 2, x_values) # Displaying the tick in the middle on x axis\n",
    "\n",
    "fig.autofmt_xdate() # Formatting the x axis to make values readable\n",
    "\n",
    "# Creating a path to store the created chart\n",
    "save_path = os.path.expanduser('~\\\\midterm\\\\que2\\\\ana_2\\\\Article Count common.pdf')\n",
    "\n",
    "plt.savefig(save_path) # Saving the chart to desired location\n",
    "\n",
    "plt.show() # Displaying the chart"
   ]
  }
 ],
 "metadata": {
  "anaconda-cloud": {},
  "kernelspec": {
   "display_name": "Python [conda root]",
   "language": "python",
   "name": "conda-root-py"
  },
  "language_info": {
   "codemirror_mode": {
    "name": "ipython",
    "version": 3
   },
   "file_extension": ".py",
   "mimetype": "text/x-python",
   "name": "python",
   "nbconvert_exporter": "python",
   "pygments_lexer": "ipython3",
   "version": "3.5.2"
  }
 },
 "nbformat": 4,
 "nbformat_minor": 1
}
